{
 "cells": [
  {
   "cell_type": "code",
   "execution_count": 10,
   "metadata": {
    "executionInfo": {
     "elapsed": 5052,
     "status": "ok",
     "timestamp": 1733317127613,
     "user": {
      "displayName": "Anej Lužar",
      "userId": "10041715143450321506"
     },
     "user_tz": -60
    },
    "id": "aZkoGzA6of0r"
   },
   "outputs": [],
   "source": [
    "import pandas as pd\n",
    "pd.options.plotting.backend = \"plotly\"\n",
    "\n",
    "import plotly.io as pio\n",
    "pio.renderers.default = 'iframe'  # Set static image rendering\n",
    "\n",
    "import json\n",
    "import pandas as pd\n",
    "import datetime\n",
    "import numpy as np\n",
    "from sklearn.metrics import mean_absolute_error"
   ]
  },
  {
   "cell_type": "code",
   "execution_count": 2,
   "metadata": {
    "executionInfo": {
     "elapsed": 223,
     "status": "ok",
     "timestamp": 1733317129406,
     "user": {
      "displayName": "Anej Lužar",
      "userId": "10041715143450321506"
     },
     "user_tz": -60
    },
    "id": "DNqg0bApof0r"
   },
   "outputs": [],
   "source": [
    "class DataLoader:\n",
    "    def __init__(self, file: str):\n",
    "        \"\"\"\n",
    "        Initializes a DataLoader object.\n",
    "\n",
    "        Parameters:\n",
    "        - data_file (str): The path to the data file.\n",
    "\n",
    "        \"\"\"\n",
    "        self.file = file\n",
    "\n",
    "    def load_json_data(self) -> list:\n",
    "        \"\"\"\n",
    "        Loads JSON data from the file and returns a list of dictionaries.\n",
    "\n",
    "        Returns:\n",
    "        - data (list): A list of dictionaries representing the JSON data.\n",
    "\n",
    "        \"\"\"\n",
    "        with open(self.file, 'r') as f:\n",
    "            data = json.load(f)\n",
    "        return data\n",
    "\n",
    "    def create_dataframe(self) -> pd.DataFrame:\n",
    "        \"\"\"\n",
    "        Converts the loaded JSON data into a Pandas DataFrame.\n",
    "\n",
    "        Returns:\n",
    "        - df (pandas.DataFrame): The converted DataFrame.\n",
    "\n",
    "        \"\"\"\n",
    "        data = self.load_json_data()\n",
    "\n",
    "        # Convert the data to a DataFrame\n",
    "        df = pd.DataFrame(data)\n",
    "\n",
    "        # Convert the timestamp to a datetime object\n",
    "        df['date'] = pd.to_datetime(df['timestamp'])\n",
    "\n",
    "        # Drop the timestamp column\n",
    "        df.drop(columns=\"timestamp\", inplace=True)\n",
    "\n",
    "        return df\n",
    "\n",
    "\n",
    "    def preprocess(self) -> pd.DataFrame:\n",
    "        df = self.create_dataframe()\n",
    "        \n",
    "        # Ensure that the date is in UTC\n",
    "        df[\"date\"] = df[\"date\"].dt.tz_convert(\"UTC\") \n",
    "        \n",
    "        # Calculate NetPosition before setting the index\n",
    "        df['NetPosition'] = df['sent'] - df['recieved']\n",
    "        \n",
    "        # Create datetime index\n",
    "        #df = df.set_index('date')\n",
    "        \n",
    "        return df"
   ]
  },
  {
   "cell_type": "code",
   "execution_count": 67,
   "metadata": {
    "colab": {
     "base_uri": "https://localhost:8080/",
     "height": 339
    },
    "executionInfo": {
     "elapsed": 227,
     "status": "error",
     "timestamp": 1733317701821,
     "user": {
      "displayName": "Anej Lužar",
      "userId": "10041715143450321506"
     },
     "user_tz": -60
    },
    "id": "ZZuVd0h4of0r",
    "outputId": "f0394fa7-a477-498c-8ecb-53643fc1e44b"
   },
   "outputs": [
    {
     "data": {
      "text/html": [
       "<div>\n",
       "<style scoped>\n",
       "    .dataframe tbody tr th:only-of-type {\n",
       "        vertical-align: middle;\n",
       "    }\n",
       "\n",
       "    .dataframe tbody tr th {\n",
       "        vertical-align: top;\n",
       "    }\n",
       "\n",
       "    .dataframe thead th {\n",
       "        text-align: right;\n",
       "    }\n",
       "</style>\n",
       "<table border=\"1\" class=\"dataframe\">\n",
       "  <thead>\n",
       "    <tr style=\"text-align: right;\">\n",
       "      <th></th>\n",
       "      <th>ID</th>\n",
       "      <th>recieved</th>\n",
       "      <th>sent</th>\n",
       "      <th>date</th>\n",
       "      <th>NetPosition</th>\n",
       "    </tr>\n",
       "  </thead>\n",
       "  <tbody>\n",
       "    <tr>\n",
       "      <th>0</th>\n",
       "      <td>5432</td>\n",
       "      <td>0.0</td>\n",
       "      <td>186.0</td>\n",
       "      <td>2023-05-15 07:00:00+00:00</td>\n",
       "      <td>186.0</td>\n",
       "    </tr>\n",
       "    <tr>\n",
       "      <th>1</th>\n",
       "      <td>5432</td>\n",
       "      <td>0.0</td>\n",
       "      <td>165.8</td>\n",
       "      <td>2023-05-22 05:00:00+00:00</td>\n",
       "      <td>165.8</td>\n",
       "    </tr>\n",
       "    <tr>\n",
       "      <th>2</th>\n",
       "      <td>5432</td>\n",
       "      <td>0.0</td>\n",
       "      <td>107.6</td>\n",
       "      <td>2023-06-17 01:00:00+00:00</td>\n",
       "      <td>107.6</td>\n",
       "    </tr>\n",
       "    <tr>\n",
       "      <th>3</th>\n",
       "      <td>5432</td>\n",
       "      <td>0.0</td>\n",
       "      <td>75.0</td>\n",
       "      <td>2023-06-26 02:00:00+00:00</td>\n",
       "      <td>75.0</td>\n",
       "    </tr>\n",
       "    <tr>\n",
       "      <th>4</th>\n",
       "      <td>5432</td>\n",
       "      <td>0.0</td>\n",
       "      <td>93.4</td>\n",
       "      <td>2023-06-29 00:00:00+00:00</td>\n",
       "      <td>93.4</td>\n",
       "    </tr>\n",
       "  </tbody>\n",
       "</table>\n",
       "</div>"
      ],
      "text/plain": [
       "     ID  recieved   sent                      date  NetPosition\n",
       "0  5432       0.0  186.0 2023-05-15 07:00:00+00:00        186.0\n",
       "1  5432       0.0  165.8 2023-05-22 05:00:00+00:00        165.8\n",
       "2  5432       0.0  107.6 2023-06-17 01:00:00+00:00        107.6\n",
       "3  5432       0.0   75.0 2023-06-26 02:00:00+00:00         75.0\n",
       "4  5432       0.0   93.4 2023-06-29 00:00:00+00:00         93.4"
      ]
     },
     "execution_count": 67,
     "metadata": {},
     "output_type": "execute_result"
    }
   ],
   "source": [
    "# Data for loading and preprocessing\n",
    "loader = DataLoader(file='energy_readings.json')\n",
    "df = loader.preprocess()\n",
    "df.head()"
   ]
  },
  {
   "cell_type": "markdown",
   "metadata": {
    "id": "_lGHzFLeof0r"
   },
   "source": [
    "## EDA\n",
    "\n",
    "Start of with the EDA to create a general overview of data you are working with."
   ]
  },
  {
   "cell_type": "code",
   "execution_count": 4,
   "metadata": {},
   "outputs": [
    {
     "name": "stdout",
     "output_type": "stream",
     "text": [
      "Indices with largest consumption: Index([1130103, 790841, 790662, 792785, 790734], dtype='int64')\n"
     ]
    },
    {
     "name": "stderr",
     "output_type": "stream",
     "text": [
      "/tmp/ipykernel_1418096/1050883936.py:5: UserWarning:\n",
      "\n",
      "Boolean Series key will be reindexed to match DataFrame index.\n",
      "\n"
     ]
    },
    {
     "data": {
      "text/html": [
       "<div>\n",
       "<style scoped>\n",
       "    .dataframe tbody tr th:only-of-type {\n",
       "        vertical-align: middle;\n",
       "    }\n",
       "\n",
       "    .dataframe tbody tr th {\n",
       "        vertical-align: top;\n",
       "    }\n",
       "\n",
       "    .dataframe thead th {\n",
       "        text-align: right;\n",
       "    }\n",
       "</style>\n",
       "<table border=\"1\" class=\"dataframe\">\n",
       "  <thead>\n",
       "    <tr style=\"text-align: right;\">\n",
       "      <th></th>\n",
       "    </tr>\n",
       "  </thead>\n",
       "  <tbody>\n",
       "  </tbody>\n",
       "</table>\n",
       "</div>"
      ],
      "text/plain": [
       "Empty DataFrame\n",
       "Columns: []\n",
       "Index: []"
      ]
     },
     "execution_count": 4,
     "metadata": {},
     "output_type": "execute_result"
    }
   ],
   "source": [
    "df_new = pd.DataFrame()\n",
    "start_date = '2023-01-01'\n",
    "largest_indices = df.nlargest(5, 'recieved').index\n",
    "print(\"Indices with largest consumption:\", largest_indices)\n",
    "df_new[df['ID'].isin(largest_indices)]"
   ]
  },
  {
   "cell_type": "code",
   "execution_count": 105,
   "metadata": {
    "executionInfo": {
     "elapsed": 218,
     "status": "ok",
     "timestamp": 1733317711227,
     "user": {
      "displayName": "Anej Lužar",
      "userId": "10041715143450321506"
     },
     "user_tz": -60
    },
    "id": "B2ekg0J0of0s"
   },
   "outputs": [
    {
     "data": {
      "text/html": [
       "<iframe\n",
       "    scrolling=\"no\"\n",
       "    width=\"100%\"\n",
       "    height=\"545px\"\n",
       "    src=\"iframe_figures/figure_105.html\"\n",
       "    frameborder=\"0\"\n",
       "    allowfullscreen\n",
       "></iframe>\n"
      ]
     },
     "metadata": {},
     "output_type": "display_data"
    }
   ],
   "source": [
    "from tempfile import template\n",
    "import plotly.express as px\n",
    "from plotly.subplots import make_subplots\n",
    "import plotly.graph_objects as go\n",
    "\n",
    "# Identify IDs where 'received' is never 0 and 'sent' is never 0\n",
    "random_ids = df['ID'].sample(n=5, random_state=42).tolist()\n",
    "#ids_with_neither_zero = ids_with_neither_zero[:5]\n",
    "\n",
    "df_neither_zero = df[df['ID'].isin(random_ids)].reset_index().sort_values(by='date')\n",
    "\n",
    "# Plot for IDs with neither 'received' nor 'sent' equal to 0\n",
    "fig_neither_zero = px.line(\n",
    "    df_neither_zero,\n",
    "    x='date',\n",
    "    y='NetPosition',\n",
    "    color='ID',\n",
    "    title='Poraba in proizvodnja električne energije skozi čas, pri posameznih odjemalcih',\n",
    "    labels={'date': 'Datum', 'NetPosition': 'Poraba ali proizvodnja el. energije [kWh]'},\n",
    "    template='plotly'\n",
    ")\n",
    "fig_neither_zero.show()"
   ]
  },
  {
   "cell_type": "code",
   "execution_count": 106,
   "metadata": {},
   "outputs": [
    {
     "data": {
      "text/html": [
       "<iframe\n",
       "    scrolling=\"no\"\n",
       "    width=\"100%\"\n",
       "    height=\"545px\"\n",
       "    src=\"iframe_figures/figure_106.html\"\n",
       "    frameborder=\"0\"\n",
       "    allowfullscreen\n",
       "></iframe>\n"
      ]
     },
     "metadata": {},
     "output_type": "display_data"
    }
   ],
   "source": [
    "df_210115 = df[df['ID']=='210115'].reset_index().sort_values(by='date')\n",
    "\n",
    "# Plot for IDs with neither 'received' nor 'sent' equal to 0\n",
    "fig_df_210115 = px.line(\n",
    "    df_210115,\n",
    "    x='date',\n",
    "    y='NetPosition',\n",
    "    title='Poraba in proizvodnja električne energije skozi čas, pri odjemalcu št. 210115',\n",
    "    labels={'date': 'Datum', 'NetPosition': 'Poraba ali proizvodnja el. energije [kWh]'},\n",
    "    template='plotly'\n",
    ")\n",
    "fig_df_210115.show()"
   ]
  },
  {
   "cell_type": "code",
   "execution_count": 107,
   "metadata": {},
   "outputs": [
    {
     "data": {
      "text/html": [
       "<iframe\n",
       "    scrolling=\"no\"\n",
       "    width=\"100%\"\n",
       "    height=\"545px\"\n",
       "    src=\"iframe_figures/figure_107.html\"\n",
       "    frameborder=\"0\"\n",
       "    allowfullscreen\n",
       "></iframe>\n"
      ]
     },
     "metadata": {},
     "output_type": "display_data"
    }
   ],
   "source": [
    "df_210115.reset_index().sort_values(by='date')\n",
    "df_210115['recieved'] = df_210115['recieved'] * -1\n",
    "# Melt the DataFrame to combine 'sent' and 'received' into one column\n",
    "df_210115_melted = df_210115.melt(\n",
    "    id_vars=['date', 'ID'],  # Columns to keep\n",
    "    value_vars=['sent', 'recieved'],  # Columns to melt\n",
    "    var_name='smer',  # New column to differentiate 'sent' and 'received'\n",
    "    value_name='Value'  # Column for their values\n",
    ")\n",
    "\n",
    "# Plot using Plotly Express\n",
    "fig_df_210115 = px.line(\n",
    "    df_210115_melted,\n",
    "    x='date',\n",
    "    y='Value',\n",
    "    color='smer',  # Different lines for 'sent' and 'received'\n",
    "    title='Poraba in proizvodnja električne energije skozi čas, pri odjemalcu št. 210115',\n",
    "    labels={'date': 'Datum', 'Value': 'Poraba ali proizvodnja el. energije [kWh]'},\n",
    "    template='plotly'\n",
    ")\n",
    "\n",
    "fig_df_210115.show()"
   ]
  },
  {
   "cell_type": "code",
   "execution_count": 124,
   "metadata": {},
   "outputs": [
    {
     "name": "stdout",
     "output_type": "stream",
     "text": [
      "  index  NetPosition\n",
      "0  mean    -2.546342\n",
      "1   max    23.580000\n"
     ]
    }
   ],
   "source": [
    "user_stats = df_210115['NetPosition'].agg(['mean', 'max']).reset_index()\n",
    "user_stats.rename(columns={'mean': 'AverageConsumption', 'max': 'MaxConsumption'}, inplace=True)\n",
    "\n",
    "print(user_stats)"
   ]
  },
  {
   "cell_type": "code",
   "execution_count": 108,
   "metadata": {},
   "outputs": [
    {
     "name": "stdout",
     "output_type": "stream",
     "text": [
      "                                   ID       mean      max\n",
      "0                         -Piadeno-XX   1.007030  491.200\n",
      "1                              000027 -17.196568   11.092\n",
      "2    00700000907110000000000000675164   0.442204    5.712\n",
      "3    0070000090740000010190002665882A   0.609336    3.534\n",
      "4     0070000906110000000000000669150   0.870510    8.155\n",
      "..                                ...        ...      ...\n",
      "443                             97319  -0.212372    2.991\n",
      "444                             97729  -0.606497    6.850\n",
      "445                             98253  -0.337526    0.009\n",
      "446                             98404   0.134074    6.742\n",
      "447                              TEST   0.330398    6.440\n",
      "\n",
      "[448 rows x 3 columns]\n"
     ]
    },
    {
     "data": {
      "text/html": [
       "<iframe\n",
       "    scrolling=\"no\"\n",
       "    width=\"100%\"\n",
       "    height=\"545px\"\n",
       "    src=\"iframe_figures/figure_108.html\"\n",
       "    frameborder=\"0\"\n",
       "    allowfullscreen\n",
       "></iframe>\n"
      ]
     },
     "metadata": {},
     "output_type": "display_data"
    }
   ],
   "source": [
    "# Povprečna in največja poraba za vsakega odjemalca\n",
    "customer_stats = df.groupby('ID')['NetPosition'].agg(['mean', 'max']).reset_index()\n",
    "\n",
    "print(customer_stats)\n",
    "\n",
    "# Stolpični graf za odjemalce\n",
    "fig = px.bar(\n",
    "    customer_stats,\n",
    "    x='ID',\n",
    "    y=['mean', 'max'],\n",
    "    title='Povprečna in največja poraba po odjemalcih',\n",
    "    labels={'value': 'Poraba [kWh]', 'ID': 'Odjemalec'},\n",
    "    color='ID',\n",
    "    template='plotly'\n",
    ")\n",
    "\n",
    "# Prikaz grafa\n",
    "fig.show()"
   ]
  },
  {
   "cell_type": "code",
   "execution_count": 123,
   "metadata": {},
   "outputs": [
    {
     "data": {
      "text/html": [
       "<iframe\n",
       "    scrolling=\"no\"\n",
       "    width=\"100%\"\n",
       "    height=\"545px\"\n",
       "    src=\"iframe_figures/figure_123.html\"\n",
       "    frameborder=\"0\"\n",
       "    allowfullscreen\n",
       "></iframe>\n"
      ]
     },
     "metadata": {},
     "output_type": "display_data"
    }
   ],
   "source": [
    "# Sort the DataFrame by date\n",
    "df_sorted = df.sort_index()\n",
    "# Plot using Plotly\n",
    "import plotly.graph_objs as go\n",
    "\n",
    "# Create traces for each unique ID\n",
    "traces = []\n",
    "for id_value in df_sorted['ID'].unique():\n",
    "    subset = df_sorted[df_sorted['ID'] == id_value]\n",
    "    trace = go.Scatter(\n",
    "        x=subset.index, \n",
    "        y=subset['NetPosition'], \n",
    "        mode='lines', \n",
    "        name=str(id_value)\n",
    "    )\n",
    "    traces.append(trace)\n",
    "\n",
    "# Create the layout\n",
    "layout = go.Layout(\n",
    "    title='NetPosition Over Time by ID',\n",
    "    xaxis={'title': 'Date'},\n",
    "    yaxis={'title': 'Net Position'}\n",
    ")\n",
    "\n",
    "# Create figure\n",
    "fig = go.Figure(data=traces, layout=layout)\n",
    "\n",
    "# Show the plot\n",
    "fig.show()"
   ]
  },
  {
   "cell_type": "code",
   "execution_count": 127,
   "metadata": {},
   "outputs": [
    {
     "data": {
      "text/html": [
       "<iframe\n",
       "    scrolling=\"no\"\n",
       "    width=\"100%\"\n",
       "    height=\"545px\"\n",
       "    src=\"iframe_figures/figure_127.html\"\n",
       "    frameborder=\"0\"\n",
       "    allowfullscreen\n",
       "></iframe>\n"
      ]
     },
     "metadata": {},
     "output_type": "display_data"
    }
   ],
   "source": [
    "# Pretvorba datuma v datetime format\n",
    "df['date'] = pd.to_datetime(df['date'])\n",
    "\n",
    "# Izvlečenje dodatnih informacij (mesec, dan v tednu, ura)\n",
    "df['month'] = df['date'].dt.month\n",
    "df['day_of_week'] = df['date'].dt.dayofweek  # 0 = ponedeljek, 6 = nedelja\n",
    "df['hour'] = df['date'].dt.hour\n",
    "\n",
    "monthly_avg = df.groupby('month')['NetPosition'].mean().reset_index()\n",
    "\n",
    "# Prikaz z Plotly\n",
    "import plotly.express as px\n",
    "fig_monthly = px.line(\n",
    "    monthly_avg,\n",
    "    x='month',\n",
    "    y='NetPosition',\n",
    "    title='Povprečna poraba energije po mesecih',\n",
    "    labels={'month': 'Mesec', 'NetPosition': 'Povprečna poraba [kWh]'},\n",
    "    template='plotly'\n",
    ")\n",
    "fig_monthly.show()\n"
   ]
  },
  {
   "cell_type": "code",
   "execution_count": 126,
   "metadata": {},
   "outputs": [
    {
     "data": {
      "text/html": [
       "<iframe\n",
       "    scrolling=\"no\"\n",
       "    width=\"100%\"\n",
       "    height=\"545px\"\n",
       "    src=\"iframe_figures/figure_126.html\"\n",
       "    frameborder=\"0\"\n",
       "    allowfullscreen\n",
       "></iframe>\n"
      ]
     },
     "metadata": {},
     "output_type": "display_data"
    }
   ],
   "source": [
    "daily_avg = df.groupby('day_of_week')['NetPosition'].mean().reset_index()\n",
    "\n",
    "fig_daily = px.bar(\n",
    "    daily_avg,\n",
    "    x='day_of_week',\n",
    "    y='NetPosition',\n",
    "    title='Povprečna poraba energije po dnevih v tednu',\n",
    "    color='day_of_week',\n",
    "    labels={'day_of_week': 'Dan v tednu (0 = Ponedeljek)', 'NetPosition': 'Povprečna poraba [kWh]'},\n",
    "    template='plotly'\n",
    ")\n",
    "fig_daily.show()"
   ]
  },
  {
   "cell_type": "code",
   "execution_count": 125,
   "metadata": {},
   "outputs": [
    {
     "data": {
      "text/html": [
       "<iframe\n",
       "    scrolling=\"no\"\n",
       "    width=\"100%\"\n",
       "    height=\"545px\"\n",
       "    src=\"iframe_figures/figure_125.html\"\n",
       "    frameborder=\"0\"\n",
       "    allowfullscreen\n",
       "></iframe>\n"
      ]
     },
     "metadata": {},
     "output_type": "display_data"
    }
   ],
   "source": [
    "user_stats = df.groupby('ID')['NetPosition'].agg(['mean', 'max', 'std']).reset_index()\n",
    "user_stats.fillna(0, inplace=True)  # Nadomestitev manjkajočih vrednosti z 0\n",
    "\n",
    "from sklearn.cluster import KMeans\n",
    "import plotly.express as px\n",
    "\n",
    "# Pripravite podatke za clustering (npr. povprečje, maksimum in standardni odklon)\n",
    "X = user_stats[['mean', 'max', 'std']]\n",
    "\n",
    "# Uporaba K-means algoritma\n",
    "kmeans = KMeans(n_clusters=5, random_state=42)  # Nastavite število skupin\n",
    "user_stats['Cluster'] = kmeans.fit_predict(X)\n",
    "\n",
    "# Prikazovanje rezultatov\n",
    "fig_clusters = px.scatter(\n",
    "    user_stats,\n",
    "    x='mean',\n",
    "    y='max',\n",
    "    color='Cluster',  # Barva glede na skupino\n",
    "    size='std',  # Velikost kroga glede na variabilnost porabe\n",
    "    title='Skupine odjemalcev na podlagi porabe energije',\n",
    "    labels={'mean': 'Povprečna poraba [kWh]', 'max': 'Največja poraba [kWh]'},\n",
    "    color_continuous_scale=px.colors.sequential.Viridis,\n",
    "    template='plotly'\n",
    ")\n",
    "fig_clusters.show()"
   ]
  },
  {
   "cell_type": "code",
   "execution_count": 6,
   "metadata": {},
   "outputs": [
    {
     "name": "stdout",
     "output_type": "stream",
     "text": [
      "\u001b[33m(Deprecated) Installing extensions with the jupyter labextension install command is now deprecated and will be removed in a future major version of JupyterLab.\n",
      "\n",
      "Users should manage prebuilt extensions with package managers like pip and conda, and extension authors are encouraged to distribute their extensions as prebuilt packages \u001b[0m\n",
      "/home/gaspers/.local/lib/python3.10/site-packages/jupyterlab/debuglog.py:54: UserWarning: An error occurred.\n",
      "  warnings.warn(\"An error occurred.\")\n",
      "/home/gaspers/.local/lib/python3.10/site-packages/jupyterlab/debuglog.py:55: UserWarning: ValueError: Please install nodejs >=20.0.0 before continuing. nodejs may be installed using conda or directly from the nodejs website.\n",
      "  warnings.warn(msg[-1].strip())\n",
      "/home/gaspers/.local/lib/python3.10/site-packages/jupyterlab/debuglog.py:56: UserWarning: See the log file for details: /tmp/jupyterlab-debug-25jo9geg.log\n",
      "  warnings.warn(f\"See the log file for details: {log_path!s}\")\n"
     ]
    }
   ],
   "source": [
    "!jupyter labextension install jupyterlab-plotly"
   ]
  },
  {
   "cell_type": "markdown",
   "metadata": {
    "id": "UwBpaFuHof0s"
   },
   "source": [
    "# Predictive model\n",
    "\n",
    "Implement your predictive model here."
   ]
  },
  {
   "cell_type": "code",
   "execution_count": null,
   "metadata": {
    "id": "WX5-R4QHof0s"
   },
   "outputs": [],
   "source": []
  },
  {
   "cell_type": "markdown",
   "metadata": {
    "id": "rQad8pSzof0s"
   },
   "source": [
    "# Results\n",
    "\n",
    "Present your results here."
   ]
  },
  {
   "cell_type": "code",
   "execution_count": null,
   "metadata": {
    "id": "SSCH64fgof0s"
   },
   "outputs": [],
   "source": []
  },
  {
   "cell_type": "code",
   "execution_count": null,
   "metadata": {
    "scrolled": true
   },
   "outputs": [],
   "source": [
    "import plotly.express as px\n",
    "from plotly.subplots import make_subplots\n",
    "import matplotlib.pyplot as plt\n",
    "\n",
    "sent_grouped = df.groupby('sent').mean()\n",
    "received_grouped = df.groupby('received').mean()\n",
    "Date_grouped = df.groupby('Date').mean()\n",
    "\n",
    "\n",
    "\n"
   ]
  },
  {
   "cell_type": "code",
   "execution_count": null,
   "metadata": {},
   "outputs": [],
   "source": []
  },
  {
   "cell_type": "code",
   "execution_count": null,
   "metadata": {},
   "outputs": [],
   "source": [
    "fig_all.show()"
   ]
  },
  {
   "cell_type": "code",
   "execution_count": null,
   "metadata": {},
   "outputs": [],
   "source": [
    "df[\"ID\"][5432]"
   ]
  },
  {
   "cell_type": "code",
   "execution_count": null,
   "metadata": {},
   "outputs": [],
   "source": [
    "df_5432 = df[df['ID'] == \"5432\"]"
   ]
  },
  {
   "cell_type": "code",
   "execution_count": null,
   "metadata": {},
   "outputs": [],
   "source": [
    "df = df_5432"
   ]
  },
  {
   "cell_type": "code",
   "execution_count": null,
   "metadata": {},
   "outputs": [],
   "source": [
    "fig = go.Figure()\n",
    "\n",
    "df['date'] = pd.to_datetime(df['date'])\n",
    "\n",
    "# Add line for 'sent'\n",
    "fig.add_trace(go.Line(x=df['date'], y=df['sent'], name='Sent'))\n",
    "\n",
    "# Add line for 'received'\n",
    "fig.add_trace(go.Line(x=df['date'], y=df['received'], name='Received'))\n",
    "\n",
    "# Update layout\n",
    "fig.update_layout(\n",
    "    title='Sent and Received Over Time',\n",
    "    xaxis_title='Date',\n",
    "    yaxis_title='Amount',\n",
    "    legend_title='Type',\n",
    "    template='plotly'\n",
    ")\n",
    "\n",
    "# Show plot\n",
    "fig.show()"
   ]
  },
  {
   "cell_type": "code",
   "execution_count": null,
   "metadata": {},
   "outputs": [],
   "source": [
    "df['sent']"
   ]
  },
  {
   "cell_type": "code",
   "execution_count": 131,
   "metadata": {},
   "outputs": [],
   "source": [
    "df_sorted = df.reset_index().sort_values(by='date')\n",
    "fig_all = px.line(\n",
    "    df_sorted,\n",
    "    x='date',\n",
    "    y='NetPosition',\n",
    "    color='ID',\n",
    "    title='Poraba energije',\n",
    "    labels={'date': 'Datum', 'NetPosition': 'Poraba energije [kWh]'},\n",
    "    template='simple_white'\n",
    ")"
   ]
  },
  {
   "cell_type": "code",
   "execution_count": 132,
   "metadata": {},
   "outputs": [
    {
     "data": {
      "text/html": [
       "<iframe\n",
       "    scrolling=\"no\"\n",
       "    width=\"100%\"\n",
       "    height=\"545px\"\n",
       "    src=\"iframe_figures/figure_132.html\"\n",
       "    frameborder=\"0\"\n",
       "    allowfullscreen\n",
       "></iframe>\n"
      ]
     },
     "metadata": {},
     "output_type": "display_data"
    }
   ],
   "source": [
    "fig_all.show()"
   ]
  },
  {
   "cell_type": "code",
   "execution_count": null,
   "metadata": {},
   "outputs": [],
   "source": []
  }
 ],
 "metadata": {
  "colab": {
   "provenance": []
  },
  "kernelspec": {
   "display_name": "Python 3 (ipykernel)",
   "language": "python",
   "name": "python3"
  },
  "language_info": {
   "codemirror_mode": {
    "name": "ipython",
    "version": 3
   },
   "file_extension": ".py",
   "mimetype": "text/x-python",
   "name": "python",
   "nbconvert_exporter": "python",
   "pygments_lexer": "ipython3",
   "version": "3.10.12"
  }
 },
 "nbformat": 4,
 "nbformat_minor": 4
}

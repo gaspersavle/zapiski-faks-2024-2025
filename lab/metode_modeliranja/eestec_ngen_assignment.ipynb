{
 "cells": [
  {
   "cell_type": "code",
   "execution_count": 2,
   "metadata": {
    "executionInfo": {
     "elapsed": 5052,
     "status": "ok",
     "timestamp": 1733317127613,
     "user": {
      "displayName": "Anej Lužar",
      "userId": "10041715143450321506"
     },
     "user_tz": -60
    },
    "id": "aZkoGzA6of0r"
   },
   "outputs": [],
   "source": [
    "import pandas as pd\n",
    "pd.options.plotting.backend = \"plotly\"\n",
    "\n",
    "import plotly.io as pio\n",
    "pio.renderers.default = 'iframe'  # Set static image rendering\n",
    "\n",
    "import json\n",
    "import pandas as pd\n",
    "import datetime\n",
    "import numpy as np\n",
    "from sklearn.metrics import mean_absolute_error"
   ]
  },
  {
   "cell_type": "code",
   "execution_count": 3,
   "metadata": {},
   "outputs": [
    {
     "name": "stdout",
     "output_type": "stream",
     "text": [
      "Defaulting to user installation because normal site-packages is not writeable\n",
      "Requirement already satisfied: simpy in /home/gaspers/.local/lib/python3.12/site-packages (4.1.1)\n"
     ]
    }
   ],
   "source": [
    "!pip3 install simpy --break-system-packages"
   ]
  },
  {
   "cell_type": "code",
   "execution_count": 4,
   "metadata": {
    "executionInfo": {
     "elapsed": 223,
     "status": "ok",
     "timestamp": 1733317129406,
     "user": {
      "displayName": "Anej Lužar",
      "userId": "10041715143450321506"
     },
     "user_tz": -60
    },
    "id": "DNqg0bApof0r"
   },
   "outputs": [],
   "source": [
    "class DataLoader:\n",
    "    def __init__(self, file: str):\n",
    "        \"\"\"\n",
    "        Initializes a DataLoader object.\n",
    "\n",
    "        Parameters:\n",
    "        - data_file (str): The path to the data file.\n",
    "\n",
    "        \"\"\"\n",
    "        self.file = file\n",
    "\n",
    "    def load_json_data(self) -> list:\n",
    "        \"\"\"\n",
    "        Loads JSON data from the file and returns a list of dictionaries.\n",
    "\n",
    "        Returns:\n",
    "        - data (list): A list of dictionaries representing the JSON data.\n",
    "\n",
    "        \"\"\"\n",
    "        with open(self.file, 'r') as f:\n",
    "            data = json.load(f)\n",
    "        return data\n",
    "\n",
    "    def create_dataframe(self) -> pd.DataFrame:\n",
    "        \"\"\"\n",
    "        Converts the loaded JSON data into a Pandas DataFrame.\n",
    "\n",
    "        Returns:\n",
    "        - df (pandas.DataFrame): The converted DataFrame.\n",
    "\n",
    "        \"\"\"\n",
    "        data = self.load_json_data()\n",
    "\n",
    "        # Convert the data to a DataFrame\n",
    "        df = pd.DataFrame(data)\n",
    "\n",
    "        # Convert the timestamp to a datetime object\n",
    "        df['date'] = pd.to_datetime(df['timestamp'])\n",
    "\n",
    "        # Drop the timestamp column\n",
    "        df.drop(columns=\"timestamp\", inplace=True)\n",
    "\n",
    "        return df\n",
    "\n",
    "\n",
    "    def preprocess(self) -> pd.DataFrame:\n",
    "        df = self.create_dataframe()\n",
    "        \n",
    "        # Ensure that the date is in UTC\n",
    "        df[\"date\"] = df[\"date\"].dt.tz_convert(\"UTC\") \n",
    "        \n",
    "        # Calculate NetPosition before setting the index\n",
    "        df['NetPosition'] = df['sent'] - df['recieved']\n",
    "        \n",
    "        # Create datetime index\n",
    "        #df = df.set_index('date')\n",
    "        \n",
    "        return df"
   ]
  },
  {
   "cell_type": "code",
   "execution_count": 5,
   "metadata": {
    "colab": {
     "base_uri": "https://localhost:8080/",
     "height": 339
    },
    "executionInfo": {
     "elapsed": 227,
     "status": "error",
     "timestamp": 1733317701821,
     "user": {
      "displayName": "Anej Lužar",
      "userId": "10041715143450321506"
     },
     "user_tz": -60
    },
    "id": "ZZuVd0h4of0r",
    "outputId": "f0394fa7-a477-498c-8ecb-53643fc1e44b"
   },
   "outputs": [
    {
     "data": {
      "text/html": [
       "<div>\n",
       "<style scoped>\n",
       "    .dataframe tbody tr th:only-of-type {\n",
       "        vertical-align: middle;\n",
       "    }\n",
       "\n",
       "    .dataframe tbody tr th {\n",
       "        vertical-align: top;\n",
       "    }\n",
       "\n",
       "    .dataframe thead th {\n",
       "        text-align: right;\n",
       "    }\n",
       "</style>\n",
       "<table border=\"1\" class=\"dataframe\">\n",
       "  <thead>\n",
       "    <tr style=\"text-align: right;\">\n",
       "      <th></th>\n",
       "      <th>ID</th>\n",
       "      <th>recieved</th>\n",
       "      <th>sent</th>\n",
       "      <th>date</th>\n",
       "      <th>NetPosition</th>\n",
       "    </tr>\n",
       "  </thead>\n",
       "  <tbody>\n",
       "    <tr>\n",
       "      <th>0</th>\n",
       "      <td>5432</td>\n",
       "      <td>0.0</td>\n",
       "      <td>186.0</td>\n",
       "      <td>2023-05-15 07:00:00+00:00</td>\n",
       "      <td>186.0</td>\n",
       "    </tr>\n",
       "    <tr>\n",
       "      <th>1</th>\n",
       "      <td>5432</td>\n",
       "      <td>0.0</td>\n",
       "      <td>165.8</td>\n",
       "      <td>2023-05-22 05:00:00+00:00</td>\n",
       "      <td>165.8</td>\n",
       "    </tr>\n",
       "    <tr>\n",
       "      <th>2</th>\n",
       "      <td>5432</td>\n",
       "      <td>0.0</td>\n",
       "      <td>107.6</td>\n",
       "      <td>2023-06-17 01:00:00+00:00</td>\n",
       "      <td>107.6</td>\n",
       "    </tr>\n",
       "    <tr>\n",
       "      <th>3</th>\n",
       "      <td>5432</td>\n",
       "      <td>0.0</td>\n",
       "      <td>75.0</td>\n",
       "      <td>2023-06-26 02:00:00+00:00</td>\n",
       "      <td>75.0</td>\n",
       "    </tr>\n",
       "    <tr>\n",
       "      <th>4</th>\n",
       "      <td>5432</td>\n",
       "      <td>0.0</td>\n",
       "      <td>93.4</td>\n",
       "      <td>2023-06-29 00:00:00+00:00</td>\n",
       "      <td>93.4</td>\n",
       "    </tr>\n",
       "  </tbody>\n",
       "</table>\n",
       "</div>"
      ],
      "text/plain": [
       "     ID  recieved   sent                      date  NetPosition\n",
       "0  5432       0.0  186.0 2023-05-15 07:00:00+00:00        186.0\n",
       "1  5432       0.0  165.8 2023-05-22 05:00:00+00:00        165.8\n",
       "2  5432       0.0  107.6 2023-06-17 01:00:00+00:00        107.6\n",
       "3  5432       0.0   75.0 2023-06-26 02:00:00+00:00         75.0\n",
       "4  5432       0.0   93.4 2023-06-29 00:00:00+00:00         93.4"
      ]
     },
     "execution_count": 5,
     "metadata": {},
     "output_type": "execute_result"
    }
   ],
   "source": [
    "# Data for loading and preprocessing\n",
    "loader = DataLoader(file='energy_readings.json')\n",
    "df = loader.preprocess()\n",
    "df.head()"
   ]
  },
  {
   "cell_type": "code",
   "execution_count": 6,
   "metadata": {},
   "outputs": [],
   "source": [
    "df.to_csv(\"exported_data.csv\", index=False)"
   ]
  },
  {
   "cell_type": "markdown",
   "metadata": {
    "id": "_lGHzFLeof0r"
   },
   "source": [
    "## EDA\n",
    "\n",
    "Start of with the EDA to create a general overview of data you are working with."
   ]
  },
  {
   "cell_type": "code",
   "execution_count": 7,
   "metadata": {},
   "outputs": [
    {
     "name": "stdout",
     "output_type": "stream",
     "text": [
      "Indices with largest consumption: Index([1130103, 790841, 790662, 792785, 790734], dtype='int64')\n"
     ]
    },
    {
     "name": "stderr",
     "output_type": "stream",
     "text": [
      "/tmp/ipykernel_44189/1050883936.py:5: UserWarning:\n",
      "\n",
      "Boolean Series key will be reindexed to match DataFrame index.\n",
      "\n"
     ]
    },
    {
     "data": {
      "text/html": [
       "<div>\n",
       "<style scoped>\n",
       "    .dataframe tbody tr th:only-of-type {\n",
       "        vertical-align: middle;\n",
       "    }\n",
       "\n",
       "    .dataframe tbody tr th {\n",
       "        vertical-align: top;\n",
       "    }\n",
       "\n",
       "    .dataframe thead th {\n",
       "        text-align: right;\n",
       "    }\n",
       "</style>\n",
       "<table border=\"1\" class=\"dataframe\">\n",
       "  <thead>\n",
       "    <tr style=\"text-align: right;\">\n",
       "      <th></th>\n",
       "    </tr>\n",
       "  </thead>\n",
       "  <tbody>\n",
       "  </tbody>\n",
       "</table>\n",
       "</div>"
      ],
      "text/plain": [
       "Empty DataFrame\n",
       "Columns: []\n",
       "Index: []"
      ]
     },
     "execution_count": 7,
     "metadata": {},
     "output_type": "execute_result"
    }
   ],
   "source": [
    "df_new = pd.DataFrame()\n",
    "start_date = '2023-01-01'\n",
    "largest_indices = df.nlargest(5, 'recieved').index\n",
    "print(\"Indices with largest consumption:\", largest_indices)\n",
    "df_new[df['ID'].isin(largest_indices)]"
   ]
  },
  {
   "cell_type": "code",
   "execution_count": 8,
   "metadata": {
    "executionInfo": {
     "elapsed": 218,
     "status": "ok",
     "timestamp": 1733317711227,
     "user": {
      "displayName": "Anej Lužar",
      "userId": "10041715143450321506"
     },
     "user_tz": -60
    },
    "id": "B2ekg0J0of0s"
   },
   "outputs": [
    {
     "data": {
      "text/html": [
       "<iframe\n",
       "    scrolling=\"no\"\n",
       "    width=\"100%\"\n",
       "    height=\"545px\"\n",
       "    src=\"iframe_figures/figure_8.html\"\n",
       "    frameborder=\"0\"\n",
       "    allowfullscreen\n",
       "></iframe>\n"
      ]
     },
     "metadata": {},
     "output_type": "display_data"
    }
   ],
   "source": [
    "from tempfile import template\n",
    "import plotly.express as px\n",
    "from plotly.subplots import make_subplots\n",
    "import plotly.graph_objects as go\n",
    "\n",
    "# Identify IDs where 'received' is never 0 and 'sent' is never 0\n",
    "random_ids = df['ID'].sample(n=5, random_state=42).tolist()\n",
    "#ids_with_neither_zero = ids_with_neither_zero[:5]\n",
    "\n",
    "df_neither_zero = df[df['ID'].isin(random_ids)].reset_index().sort_values(by='date')\n",
    "\n",
    "# Plot for IDs with neither 'received' nor 'sent' equal to 0\n",
    "fig_neither_zero = px.line(\n",
    "    df_neither_zero,\n",
    "    x='date',\n",
    "    y='NetPosition',\n",
    "    color='ID',\n",
    "    title='Poraba in proizvodnja električne energije skozi čas, pri posameznih odjemalcih',\n",
    "    labels={'date': 'Datum', 'NetPosition': 'Poraba ali proizvodnja el. energije [kWh]'},\n",
    "    template='plotly'\n",
    ")\n",
    "fig_neither_zero.show()"
   ]
  },
  {
   "cell_type": "code",
   "execution_count": 9,
   "metadata": {},
   "outputs": [
    {
     "data": {
      "text/html": [
       "<iframe\n",
       "    scrolling=\"no\"\n",
       "    width=\"100%\"\n",
       "    height=\"545px\"\n",
       "    src=\"iframe_figures/figure_9.html\"\n",
       "    frameborder=\"0\"\n",
       "    allowfullscreen\n",
       "></iframe>\n"
      ]
     },
     "metadata": {},
     "output_type": "display_data"
    }
   ],
   "source": [
    "df_210115 = df[df['ID']=='210115'].reset_index().sort_values(by='date')\n",
    "\n",
    "# Plot for IDs with neither 'received' nor 'sent' equal to 0\n",
    "fig_df_210115 = px.line(\n",
    "    df_210115,\n",
    "    x='date',\n",
    "    y='NetPosition',\n",
    "    title='Poraba in proizvodnja električne energije skozi čas, pri odjemalcu št. 210115',\n",
    "    labels={'date': 'Datum', 'NetPosition': 'Poraba ali proizvodnja el. energije [kWh]'},\n",
    "    template='plotly'\n",
    ")\n",
    "fig_df_210115.show()"
   ]
  },
  {
   "cell_type": "code",
   "execution_count": 10,
   "metadata": {},
   "outputs": [
    {
     "data": {
      "text/html": [
       "<iframe\n",
       "    scrolling=\"no\"\n",
       "    width=\"100%\"\n",
       "    height=\"545px\"\n",
       "    src=\"iframe_figures/figure_10.html\"\n",
       "    frameborder=\"0\"\n",
       "    allowfullscreen\n",
       "></iframe>\n"
      ]
     },
     "metadata": {},
     "output_type": "display_data"
    }
   ],
   "source": [
    "df_210115.reset_index().sort_values(by='date')\n",
    "df_210115['recieved'] = df_210115['recieved'] * -1\n",
    "# Melt the DataFrame to combine 'sent' and 'received' into one column\n",
    "df_210115_melted = df_210115.melt(\n",
    "    id_vars=['date', 'ID'],  # Columns to keep\n",
    "    value_vars=['sent', 'recieved'],  # Columns to melt\n",
    "    var_name='smer',  # New column to differentiate 'sent' and 'received'\n",
    "    value_name='Value'  # Column for their values\n",
    ")\n",
    "\n",
    "# Plot using Plotly Express\n",
    "fig_df_210115 = px.line(\n",
    "    df_210115_melted,\n",
    "    x='date',\n",
    "    y='Value',\n",
    "    color='smer',  # Different lines for 'sent' and 'received'\n",
    "    title='Poraba in proizvodnja električne energije skozi čas, pri odjemalcu št. 210115',\n",
    "    labels={'date': 'Datum', 'Value': 'Poraba ali proizvodnja el. energije [kWh]'},\n",
    "    template='plotly'\n",
    ")\n",
    "\n",
    "fig_df_210115.show()"
   ]
  },
  {
   "cell_type": "code",
   "execution_count": 11,
   "metadata": {},
   "outputs": [
    {
     "name": "stdout",
     "output_type": "stream",
     "text": [
      "  index  NetPosition\n",
      "0  mean    -2.546342\n",
      "1   max    23.580000\n"
     ]
    }
   ],
   "source": [
    "user_stats = df_210115['NetPosition'].agg(['mean', 'max']).reset_index()\n",
    "user_stats.rename(columns={'mean': 'AverageConsumption', 'max': 'MaxConsumption'}, inplace=True)\n",
    "\n",
    "print(user_stats)"
   ]
  },
  {
   "cell_type": "code",
   "execution_count": 12,
   "metadata": {},
   "outputs": [
    {
     "name": "stdout",
     "output_type": "stream",
     "text": [
      "                                   ID       mean      max\n",
      "0                         -Piadeno-XX   1.007030  491.200\n",
      "1                              000027 -17.196568   11.092\n",
      "2    00700000907110000000000000675164   0.442204    5.712\n",
      "3    0070000090740000010190002665882A   0.609336    3.534\n",
      "4     0070000906110000000000000669150   0.870510    8.155\n",
      "..                                ...        ...      ...\n",
      "443                             97319  -0.212372    2.991\n",
      "444                             97729  -0.606497    6.850\n",
      "445                             98253  -0.337526    0.009\n",
      "446                             98404   0.134074    6.742\n",
      "447                              TEST   0.330398    6.440\n",
      "\n",
      "[448 rows x 3 columns]\n"
     ]
    },
    {
     "data": {
      "text/html": [
       "<iframe\n",
       "    scrolling=\"no\"\n",
       "    width=\"100%\"\n",
       "    height=\"545px\"\n",
       "    src=\"iframe_figures/figure_12.html\"\n",
       "    frameborder=\"0\"\n",
       "    allowfullscreen\n",
       "></iframe>\n"
      ]
     },
     "metadata": {},
     "output_type": "display_data"
    }
   ],
   "source": [
    "# Povprečna in največja poraba za vsakega odjemalca\n",
    "customer_stats = df.groupby('ID')['NetPosition'].agg(['mean', 'max']).reset_index()\n",
    "\n",
    "print(customer_stats)\n",
    "\n",
    "# Stolpični graf za odjemalce\n",
    "fig = px.bar(\n",
    "    customer_stats,\n",
    "    x='ID',\n",
    "    y=['mean', 'max'],\n",
    "    title='Povprečna in največja poraba po odjemalcih',\n",
    "    labels={'value': 'Poraba [kWh]', 'ID': 'Odjemalec'},\n",
    "    color='ID',\n",
    "    template='plotly'\n",
    ")\n",
    "\n",
    "# Prikaz grafa\n",
    "fig.show()"
   ]
  },
  {
   "cell_type": "code",
   "execution_count": 13,
   "metadata": {},
   "outputs": [
    {
     "data": {
      "text/html": [
       "<iframe\n",
       "    scrolling=\"no\"\n",
       "    width=\"100%\"\n",
       "    height=\"545px\"\n",
       "    src=\"iframe_figures/figure_13.html\"\n",
       "    frameborder=\"0\"\n",
       "    allowfullscreen\n",
       "></iframe>\n"
      ]
     },
     "metadata": {},
     "output_type": "display_data"
    }
   ],
   "source": [
    "# Sort the DataFrame by date\n",
    "df_sorted = df.sort_index()\n",
    "# Plot using Plotly\n",
    "import plotly.graph_objs as go\n",
    "\n",
    "# Create traces for each unique ID\n",
    "traces = []\n",
    "for id_value in df_sorted['ID'].unique():\n",
    "    subset = df_sorted[df_sorted['ID'] == id_value]\n",
    "    trace = go.Scatter(\n",
    "        x=subset.index, \n",
    "        y=subset['NetPosition'], \n",
    "        mode='lines', \n",
    "        name=str(id_value)\n",
    "    )\n",
    "    traces.append(trace)\n",
    "\n",
    "# Create the layout\n",
    "layout = go.Layout(\n",
    "    title='NetPosition Over Time by ID',\n",
    "    xaxis={'title': 'Date'},\n",
    "    yaxis={'title': 'Net Position'}\n",
    ")\n",
    "\n",
    "# Create figure\n",
    "fig = go.Figure(data=traces, layout=layout)\n",
    "\n",
    "# Show the plot\n",
    "fig.show()"
   ]
  },
  {
   "cell_type": "code",
   "execution_count": 15,
   "metadata": {},
   "outputs": [
    {
     "data": {
      "text/html": [
       "<iframe\n",
       "    scrolling=\"no\"\n",
       "    width=\"100%\"\n",
       "    height=\"545px\"\n",
       "    src=\"iframe_figures/figure_15.html\"\n",
       "    frameborder=\"0\"\n",
       "    allowfullscreen\n",
       "></iframe>\n"
      ]
     },
     "metadata": {},
     "output_type": "display_data"
    }
   ],
   "source": [
    "# Pretvorba datuma v datetime format\n",
    "df['date'] = pd.to_datetime(df['date'])\n",
    "\n",
    "# Izvlečenje dodatnih informacij (mesec, dan v tednu, ura)\n",
    "df['month'] = df['date'].dt.month\n",
    "df['day_of_week'] = df['date'].dt.dayofweek  # 0 = ponedeljek, 6 = nedelja\n",
    "df['hour'] = df['date'].dt.hour\n",
    "\n",
    "monthly_avg = df.groupby('month')['NetPosition'].mean().reset_index()\n",
    "\n",
    "# Prikaz z Plotly\n",
    "import plotly.express as px\n",
    "fig_monthly = px.line(\n",
    "    monthly_avg,\n",
    "    x='month',\n",
    "    y='NetPosition',\n",
    "    title='Povprečna poraba energije po mesecih',\n",
    "    labels={'month': 'Mesec', 'NetPosition': 'Povprečna poraba [kWh]'},\n",
    "    template='plotly'\n",
    ")\n",
    "fig_monthly.show()\n"
   ]
  },
  {
   "cell_type": "code",
   "execution_count": 16,
   "metadata": {},
   "outputs": [
    {
     "data": {
      "text/html": [
       "<iframe\n",
       "    scrolling=\"no\"\n",
       "    width=\"100%\"\n",
       "    height=\"545px\"\n",
       "    src=\"iframe_figures/figure_16.html\"\n",
       "    frameborder=\"0\"\n",
       "    allowfullscreen\n",
       "></iframe>\n"
      ]
     },
     "metadata": {},
     "output_type": "display_data"
    }
   ],
   "source": [
    "daily_avg = df.groupby('day_of_week')['NetPosition'].mean().reset_index()\n",
    "\n",
    "fig_daily = px.bar(\n",
    "    daily_avg,\n",
    "    x='day_of_week',\n",
    "    y='NetPosition',\n",
    "    title='Povprečna poraba energije po dnevih v tednu',\n",
    "    color='day_of_week',\n",
    "    labels={'day_of_week': 'Dan v tednu (0 = Ponedeljek)', 'NetPosition': 'Povprečna poraba [kWh]'},\n",
    "    template='plotly'\n",
    ")\n",
    "fig_daily.show()"
   ]
  },
  {
   "cell_type": "code",
   "execution_count": 18,
   "metadata": {},
   "outputs": [
    {
     "data": {
      "text/html": [
       "<iframe\n",
       "    scrolling=\"no\"\n",
       "    width=\"620px\"\n",
       "    height=\"620\"\n",
       "    src=\"iframe_figures/figure_18.html\"\n",
       "    frameborder=\"0\"\n",
       "    allowfullscreen\n",
       "></iframe>\n"
      ]
     },
     "metadata": {},
     "output_type": "display_data"
    }
   ],
   "source": [
    "user_stats = df.groupby('ID')['NetPosition'].agg(['mean', 'max', 'std']).reset_index()\n",
    "user_stats.fillna(0, inplace=True)  # Nadomestitev manjkajočih vrednosti z 0\n",
    "\n",
    "from sklearn.cluster import KMeans\n",
    "import plotly.express as px\n",
    "\n",
    "# Pripravite podatke za clustering (npr. povprečje, maksimum in standardni odklon)\n",
    "X = user_stats[['mean', 'max', 'std']]\n",
    "\n",
    "# Uporaba K-means algoritma\n",
    "kmeans = KMeans(n_clusters=5, random_state=42)  # Nastavite število skupin\n",
    "user_stats['Cluster'] = kmeans.fit_predict(X)\n",
    "\n",
    "# Prikazovanje rezultatov\n",
    "fig_clusters = px.scatter(\n",
    "    user_stats,\n",
    "    x='mean',\n",
    "    y='max',\n",
    "    color='Cluster',  # Barva glede na skupino\n",
    "    size='std',  # Velikost kroga glede na variabilnost porabe\n",
    "    title='Skupine odjemalcev na podlagi porabe energije',\n",
    "    labels={'mean': 'Povprečna poraba [kWh]', 'max': 'Največja poraba [kWh]'},\n",
    "    color_continuous_scale=px.colors.sequential.Viridis,\n",
    "    template='plotly'\n",
    ")\n",
    "fig_clusters.update_layout(\n",
    "    width=600,\n",
    "    height=600)\n",
    "fig_clusters.show()"
   ]
  },
  {
   "cell_type": "code",
   "execution_count": 6,
   "metadata": {},
   "outputs": [
    {
     "name": "stdout",
     "output_type": "stream",
     "text": [
      "\u001b[33m(Deprecated) Installing extensions with the jupyter labextension install command is now deprecated and will be removed in a future major version of JupyterLab.\n",
      "\n",
      "Users should manage prebuilt extensions with package managers like pip and conda, and extension authors are encouraged to distribute their extensions as prebuilt packages \u001b[0m\n",
      "/home/gaspers/.local/lib/python3.10/site-packages/jupyterlab/debuglog.py:54: UserWarning: An error occurred.\n",
      "  warnings.warn(\"An error occurred.\")\n",
      "/home/gaspers/.local/lib/python3.10/site-packages/jupyterlab/debuglog.py:55: UserWarning: ValueError: Please install nodejs >=20.0.0 before continuing. nodejs may be installed using conda or directly from the nodejs website.\n",
      "  warnings.warn(msg[-1].strip())\n",
      "/home/gaspers/.local/lib/python3.10/site-packages/jupyterlab/debuglog.py:56: UserWarning: See the log file for details: /tmp/jupyterlab-debug-25jo9geg.log\n",
      "  warnings.warn(f\"See the log file for details: {log_path!s}\")\n"
     ]
    }
   ],
   "source": [
    "!jupyter labextension install jupyterlab-plotly"
   ]
  },
  {
   "cell_type": "markdown",
   "metadata": {
    "id": "UwBpaFuHof0s"
   },
   "source": [
    "# Predictive model\n",
    "\n",
    "Implement your predictive model here."
   ]
  },
  {
   "cell_type": "code",
   "execution_count": null,
   "metadata": {
    "id": "WX5-R4QHof0s"
   },
   "outputs": [],
   "source": []
  },
  {
   "cell_type": "markdown",
   "metadata": {
    "id": "rQad8pSzof0s"
   },
   "source": [
    "# Results\n",
    "\n",
    "Present your results here."
   ]
  },
  {
   "cell_type": "code",
   "execution_count": null,
   "metadata": {
    "id": "SSCH64fgof0s"
   },
   "outputs": [],
   "source": []
  },
  {
   "cell_type": "code",
   "execution_count": null,
   "metadata": {
    "scrolled": true
   },
   "outputs": [],
   "source": [
    "import plotly.express as px\n",
    "from plotly.subplots import make_subplots\n",
    "import matplotlib.pyplot as plt\n",
    "\n",
    "sent_grouped = df.groupby('sent').mean()\n",
    "received_grouped = df.groupby('received').mean()\n",
    "Date_grouped = df.groupby('Date').mean()\n",
    "\n",
    "\n",
    "\n"
   ]
  },
  {
   "cell_type": "code",
   "execution_count": null,
   "metadata": {},
   "outputs": [],
   "source": []
  },
  {
   "cell_type": "code",
   "execution_count": null,
   "metadata": {},
   "outputs": [],
   "source": [
    "fig_all.show()"
   ]
  },
  {
   "cell_type": "code",
   "execution_count": null,
   "metadata": {},
   "outputs": [],
   "source": [
    "df[\"ID\"][5432]"
   ]
  },
  {
   "cell_type": "code",
   "execution_count": null,
   "metadata": {},
   "outputs": [],
   "source": [
    "df_5432 = df[df['ID'] == \"5432\"]"
   ]
  },
  {
   "cell_type": "code",
   "execution_count": null,
   "metadata": {},
   "outputs": [],
   "source": [
    "df = df_5432"
   ]
  },
  {
   "cell_type": "code",
   "execution_count": null,
   "metadata": {},
   "outputs": [],
   "source": [
    "fig = go.Figure()\n",
    "\n",
    "df['date'] = pd.to_datetime(df['date'])\n",
    "\n",
    "# Add line for 'sent'\n",
    "fig.add_trace(go.Line(x=df['date'], y=df['sent'], name='Sent'))\n",
    "\n",
    "# Add line for 'received'\n",
    "fig.add_trace(go.Line(x=df['date'], y=df['received'], name='Received'))\n",
    "\n",
    "# Update layout\n",
    "fig.update_layout(\n",
    "    title='Sent and Received Over Time',\n",
    "    xaxis_title='Date',\n",
    "    yaxis_title='Amount',\n",
    "    legend_title='Type',\n",
    "    template='plotly'\n",
    ")\n",
    "\n",
    "# Show plot\n",
    "fig.show()"
   ]
  },
  {
   "cell_type": "code",
   "execution_count": null,
   "metadata": {},
   "outputs": [],
   "source": [
    "df['sent']"
   ]
  },
  {
   "cell_type": "code",
   "execution_count": 131,
   "metadata": {},
   "outputs": [],
   "source": [
    "df_sorted = df.reset_index().sort_values(by='date')\n",
    "fig_all = px.line(\n",
    "    df_sorted,\n",
    "    x='date',\n",
    "    y='NetPosition',\n",
    "    color='ID',\n",
    "    title='Poraba energije',\n",
    "    labels={'date': 'Datum', 'NetPosition': 'Poraba energije [kWh]'},\n",
    "    template='simple_white'\n",
    ")"
   ]
  },
  {
   "cell_type": "code",
   "execution_count": 132,
   "metadata": {},
   "outputs": [
    {
     "data": {
      "text/html": [
       "<iframe\n",
       "    scrolling=\"no\"\n",
       "    width=\"100%\"\n",
       "    height=\"545px\"\n",
       "    src=\"iframe_figures/figure_132.html\"\n",
       "    frameborder=\"0\"\n",
       "    allowfullscreen\n",
       "></iframe>\n"
      ]
     },
     "metadata": {},
     "output_type": "display_data"
    }
   ],
   "source": [
    "fig_all.show()"
   ]
  },
  {
   "cell_type": "code",
   "execution_count": 14,
   "metadata": {},
   "outputs": [],
   "source": [
    "class Consumer:\n",
    "    def __init__(self, consumer_id, initial_storage=0):\n",
    "        self.id = consumer_id\n",
    "        self.storage = initial_storage  # Battery storage level\n",
    "        self.history = []  # To track power levels over time\n",
    "\n",
    "    def update_storage(self, received, sent, timestamp):\n",
    "        \"\"\" Updates the battery storage based on received and sent power \"\"\"\n",
    "        self.storage += (received - sent)\n",
    "        self.history.append((timestamp, self.storage))\n",
    "    \n",
    "    def get_status(self):\n",
    "        return {\"ID\": self.id, \"Storage\": self.storage}"
   ]
  },
  {
   "cell_type": "code",
   "execution_count": 15,
   "metadata": {
    "scrolled": true
   },
   "outputs": [
    {
     "name": "stdout",
     "output_type": "stream",
     "text": [
      "{'ID': '5432', 'Storage': -506128.79999999993}\n",
      "{'ID': '82387', 'Storage': 11603.675999999889}\n",
      "{'ID': '96176', 'Storage': -52285.419000000074}\n",
      "{'ID': '116845', 'Storage': -3027.520000000005}\n",
      "{'ID': '164666', 'Storage': -6508.489999999964}\n",
      "{'ID': '007000095000000010190002528389A', 'Storage': -117.76599999999996}\n",
      "{'ID': '51251', 'Storage': -5859.941000000009}\n",
      "{'ID': '210115', 'Storage': 17819.300000000017}\n",
      "{'ID': '9551', 'Storage': 45232.42099999997}\n",
      "{'ID': '215699', 'Storage': 408.8999999999987}\n",
      "{'ID': '8086524', 'Storage': 65718.84000000019}\n",
      "{'ID': '74915', 'Storage': 7330.342000000005}\n",
      "{'ID': '47204', 'Storage': 3993.0769999999993}\n",
      "{'ID': '281937', 'Storage': -3539.9450000000006}\n",
      "{'ID': '4932', 'Storage': 559186.2000000022}\n",
      "{'ID': '106533', 'Storage': 167853.43999999936}\n",
      "{'ID': '87669', 'Storage': -113042.25000000065}\n",
      "{'ID': '201917', 'Storage': -59382.149999999994}\n",
      "{'ID': '282822', 'Storage': 411.0639999999992}\n",
      "{'ID': '159525', 'Storage': 20449.511999999886}\n",
      "{'ID': '125612', 'Storage': 3309.1639999999975}\n",
      "{'ID': '116216', 'Storage': -50260.10999999998}\n",
      "{'ID': '108901', 'Storage': -83207.8}\n",
      "{'ID': '10893', 'Storage': 34724.5200000001}\n",
      "{'ID': '65189', 'Storage': -3523.8159999999984}\n",
      "{'ID': '8000242', 'Storage': 2.5860000000000003}\n",
      "{'ID': '66918', 'Storage': 299.34899999999953}\n",
      "{'ID': '402399', 'Storage': 441.87699999999927}\n",
      "{'ID': '331773', 'Storage': 185.61599999999981}\n",
      "{'ID': '96107', 'Storage': 294.3340000000004}\n",
      "{'ID': '108985', 'Storage': 784235.5200000011}\n",
      "{'ID': '121043', 'Storage': -1269.2880000000052}\n",
      "{'ID': '88099', 'Storage': -7982.902000000029}\n",
      "{'ID': '285042', 'Storage': -973.0849999999999}\n",
      "{'ID': '47726', 'Storage': 6481.716000000002}\n",
      "{'ID': '54886', 'Storage': 1923.856000000035}\n",
      "{'ID': '201876', 'Storage': -1879.1039999999928}\n",
      "{'ID': '412206', 'Storage': -240534.23999999973}\n",
      "{'ID': '8077008', 'Storage': 358.70499999999976}\n",
      "{'ID': '8025449', 'Storage': 763143.6799999999}\n",
      "{'ID': '13258', 'Storage': 63967.1409999999}\n",
      "{'ID': '1050', 'Storage': 79169.39999999982}\n",
      "{'ID': '10702', 'Storage': 59380.99200000021}\n",
      "{'ID': '16287', 'Storage': -11409.29999999986}\n",
      "{'ID': '125454', 'Storage': -91173.23999999993}\n",
      "{'ID': '303200', 'Storage': 6917.55199999997}\n",
      "{'ID': '37481', 'Storage': -948.9369999999993}\n",
      "{'ID': '149397', 'Storage': -256.0849999999995}\n",
      "{'ID': '6776', 'Storage': 114044.45999999967}\n",
      "{'ID': '74972', 'Storage': -4377.7350000000815}\n",
      "{'ID': '8033560', 'Storage': -1494.0800000000042}\n",
      "{'ID': '78456', 'Storage': -3178.5900000000015}\n",
      "{'ID': '81911', 'Storage': 2687.425999999968}\n",
      "{'ID': '3369', 'Storage': 135.6}\n",
      "{'ID': '402861', 'Storage': -472627.4000000004}\n",
      "{'ID': '210264', 'Storage': -1158108.6000000017}\n",
      "{'ID': '68581', 'Storage': 3008.4180000000088}\n",
      "{'ID': '54647', 'Storage': -6585.870000000014}\n",
      "{'ID': '190189', 'Storage': 7979.250999999987}\n",
      "{'ID': '7496', 'Storage': -127875.45000000007}\n",
      "{'ID': '16070', 'Storage': 0.43400000000000016}\n",
      "{'ID': '122735', 'Storage': 90903.06000000011}\n",
      "{'ID': '152672', 'Storage': 150.15900000000008}\n",
      "{'ID': '323781', 'Storage': 112380.36000000009}\n",
      "{'ID': '221543', 'Storage': 128817.15999999973}\n",
      "{'ID': '44740', 'Storage': 679.718}\n",
      "{'ID': '123316', 'Storage': -299961.68000000116}\n",
      "{'ID': '408611', 'Storage': -288748.5599999996}\n",
      "{'ID': '8000544', 'Storage': 2559068.200000001}\n",
      "{'ID': '22581', 'Storage': -6133.717999999991}\n",
      "{'ID': '204563', 'Storage': 260588.3499999995}\n",
      "{'ID': '95925', 'Storage': 24227.30499999989}\n",
      "{'ID': '98253', 'Storage': 12.825999999999997}\n",
      "{'ID': '387861', 'Storage': 16840.10800000005}\n",
      "{'ID': '32164', 'Storage': -4167.143000000049}\n",
      "{'ID': '323780', 'Storage': -32983.9999999999}\n",
      "{'ID': '10898', 'Storage': 4239889.599999996}\n",
      "{'ID': '144870', 'Storage': 477.8030000000001}\n",
      "{'ID': '326277', 'Storage': -11132.52000000001}\n",
      "{'ID': '12960', 'Storage': -352201.6499999995}\n",
      "{'ID': '91791', 'Storage': 2458.704999999999}\n",
      "{'ID': '211755', 'Storage': 117.20100000000087}\n",
      "{'ID': '0070000907410000000000000671676', 'Storage': -1237.8259999999984}\n",
      "{'ID': '8093678', 'Storage': 2.006999999999996}\n",
      "{'ID': '210641', 'Storage': 16.840999999999976}\n",
      "{'ID': '120466', 'Storage': -943.1150000000017}\n",
      "{'ID': '10794', 'Storage': 5483.024000000008}\n",
      "{'ID': '148049', 'Storage': -1500960.400000001}\n",
      "{'ID': '194664', 'Storage': 3085.160999999978}\n",
      "{'ID': '16461', 'Storage': -7358.148000000026}\n",
      "{'ID': '0070000953210000000000000504839', 'Storage': -661.732000000001}\n",
      "{'ID': '0070000958210000000000000675030', 'Storage': -1334.8709999999978}\n",
      "{'ID': '417729', 'Storage': 1247.3210000000008}\n",
      "{'ID': '88896', 'Storage': -3677.6760000000936}\n",
      "{'ID': '283149', 'Storage': -1187.9089999999974}\n",
      "{'ID': '10756', 'Storage': 11826.737000000006}\n",
      "{'ID': '8080218', 'Storage': 49268.59999999987}\n",
      "{'ID': '5441', 'Storage': -247189.08000000028}\n",
      "{'ID': '122599', 'Storage': 347853.4999999993}\n",
      "{'ID': '232148', 'Storage': 5775.594000000006}\n",
      "{'ID': '10856', 'Storage': 55132.560000000005}\n",
      "{'ID': '283184', 'Storage': -5159.664000000004}\n",
      "{'ID': '68357', 'Storage': -73.11699999999887}\n",
      "{'ID': '223349', 'Storage': 83.89999999999999}\n",
      "{'ID': '172255', 'Storage': 18023.309999999998}\n",
      "{'ID': '8083812', 'Storage': 12203.055999999662}\n",
      "{'ID': '380468', 'Storage': -5901.112999999968}\n",
      "{'ID': '116', 'Storage': 103346.1999999995}\n",
      "{'ID': '263606', 'Storage': -7204007.100000002}\n",
      "{'ID': '265449', 'Storage': 22834.12400000013}\n",
      "{'ID': '212330', 'Storage': 820357.799999998}\n",
      "{'ID': '6108', 'Storage': 1384112.5000000028}\n",
      "{'ID': '124101', 'Storage': 601062.029}\n",
      "{'ID': '97319', 'Storage': 1480.2340000000108}\n",
      "{'ID': '59390', 'Storage': 591.6080000000005}\n",
      "{'ID': '413214', 'Storage': 2302.171000000002}\n",
      "{'ID': '278069', 'Storage': -7658.255999999981}\n",
      "{'ID': '205968', 'Storage': 119963.89999999995}\n",
      "{'ID': '189455', 'Storage': -599244.8000000004}\n",
      "{'ID': '0070000906110000000000000669150', 'Storage': -1353.643000000001}\n",
      "{'ID': '15174', 'Storage': 251881.36000000054}\n",
      "{'ID': '51088', 'Storage': 7.755000000000028}\n",
      "{'ID': '282682', 'Storage': 60.268000000000015}\n",
      "{'ID': '187709', 'Storage': 10354.043}\n",
      "{'ID': '8096317', 'Storage': -13138.51799999997}\n",
      "{'ID': '16825', 'Storage': -10450.784}\n",
      "{'ID': '53141', 'Storage': 193.01000000000002}\n",
      "{'ID': '0070000918410000000000000543993', 'Storage': 33.13399999999994}\n",
      "{'ID': '171401', 'Storage': 287.163}\n",
      "{'ID': '93345', 'Storage': -767.3259999999985}\n",
      "{'ID': '123370', 'Storage': 17209.210000000025}\n",
      "{'ID': '67052', 'Storage': -2763.433999999998}\n",
      "{'ID': '281501', 'Storage': -2243.707999999997}\n",
      "{'ID': '85614', 'Storage': 97795.91999999959}\n",
      "{'ID': '413341', 'Storage': -434.8039999999932}\n",
      "{'ID': '86288', 'Storage': 3258.2489999999966}\n",
      "{'ID': '84948', 'Storage': -153333.63000000027}\n",
      "{'ID': '18720', 'Storage': -40607.79200000002}\n",
      "{'ID': '403686', 'Storage': -46292.400000000074}\n",
      "{'ID': '11408', 'Storage': 1074.5729999999996}\n",
      "{'ID': '402862', 'Storage': -642001.7999999978}\n",
      "{'ID': '5438', 'Storage': -1169200.9599999995}\n",
      "{'ID': '89296', 'Storage': -38.917000000000016}\n",
      "{'ID': '176019', 'Storage': 14129.465000000135}\n",
      "{'ID': '263607', 'Storage': 480535.0}\n",
      "{'ID': '8413', 'Storage': 5055.91100000002}\n",
      "{'ID': '114512', 'Storage': -48009.93000000002}\n",
      "{'ID': '229774', 'Storage': 1.3180000000000003}\n",
      "{'ID': '16727', 'Storage': 5582.628999999995}\n",
      "{'ID': '175851', 'Storage': -279666.2}\n",
      "{'ID': 'TEST', 'Storage': -2275.778000000029}\n",
      "{'ID': '203323', 'Storage': 41141.199999999975}\n",
      "{'ID': '207905', 'Storage': 11101.187999999991}\n",
      "{'ID': '83493', 'Storage': 2826.786000000003}\n",
      "{'ID': '8032218', 'Storage': 433292.2000000004}\n",
      "{'ID': '407577', 'Storage': -127907.89999999982}\n",
      "{'ID': '151500', 'Storage': 136.9800000000002}\n",
      "{'ID': '23212', 'Storage': -126548.24900000003}\n",
      "{'ID': '1607', 'Storage': 497.88}\n",
      "{'ID': '316546', 'Storage': 570.2329999999993}\n",
      "{'ID': '73493', 'Storage': 4737.661000000013}\n",
      "{'ID': '91711', 'Storage': -1107.6870000000015}\n",
      "{'ID': '205663', 'Storage': 22.536999999999974}\n",
      "{'ID': '256069', 'Storage': 15418.699999999984}\n",
      "{'ID': '8015016', 'Storage': -8040.1489999999785}\n",
      "{'ID': '213358', 'Storage': 1118.8140000000474}\n",
      "{'ID': '189550', 'Storage': -6590085.89999999}\n",
      "{'ID': '0070000918210000000000000677890', 'Storage': -474.2740000000005}\n",
      "{'ID': '5440', 'Storage': -1930217.9200000006}\n",
      "{'ID': '331133', 'Storage': 11833.921999999988}\n",
      "{'ID': '333690', 'Storage': 53709.15999999952}\n",
      "{'ID': '129026', 'Storage': 247.94099999999963}\n",
      "{'ID': '8067326', 'Storage': -1724.6000000000035}\n",
      "{'ID': '8034866', 'Storage': 3899.205000000003}\n",
      "{'ID': '120875', 'Storage': -2291.6149999999875}\n",
      "{'ID': '85833', 'Storage': -7078.634999999903}\n",
      "{'ID': '256332', 'Storage': -6313.144000000011}\n",
      "{'ID': '118665', 'Storage': -4656.067999999999}\n",
      "{'ID': '8049157', 'Storage': 38299.41999999992}\n",
      "{'ID': '408576', 'Storage': 2834.7949999999987}\n",
      "{'ID': '89912', 'Storage': 69273.40699999992}\n",
      "{'ID': '11262', 'Storage': 76492.64000000004}\n",
      "{'ID': '8030148', 'Storage': 26110.845999999958}\n",
      "{'ID': '119043', 'Storage': -560258.3200000016}\n",
      "{'ID': '8666', 'Storage': -50162.640000000065}\n",
      "{'ID': '16365', 'Storage': 3299.7859999999914}\n",
      "{'ID': '85188', 'Storage': 1028.7219999999998}\n",
      "{'ID': '8083144', 'Storage': 19572.820000000025}\n",
      "{'ID': '46030', 'Storage': 6539.5400000000045}\n",
      "{'ID': '174666', 'Storage': 2727.9869999999923}\n",
      "{'ID': '8017294', 'Storage': 34.437999999999896}\n",
      "{'ID': '114936', 'Storage': 211.16900000000027}\n",
      "{'ID': '105705', 'Storage': 421350.7999999988}\n",
      "{'ID': '12661', 'Storage': 227256.07999999926}\n",
      "{'ID': '339851', 'Storage': 1490.673999999996}\n",
      "{'ID': '88676', 'Storage': 299.5719999999999}\n",
      "{'ID': '146696', 'Storage': -3.491000000000076}\n",
      "{'ID': '3897', 'Storage': -7370.171000000022}\n",
      "{'ID': '1132', 'Storage': 108670.92}\n",
      "{'ID': '82314', 'Storage': -1760548.0}\n",
      "{'ID': '123964', 'Storage': 121524.64000000099}\n",
      "{'ID': '214706', 'Storage': -1896.6439999999973}\n",
      "{'ID': '167052', 'Storage': 1824.028000000001}\n",
      "{'ID': '174002', 'Storage': -60032.89999999997}\n",
      "{'ID': '8002719', 'Storage': 756.48}\n",
      "{'ID': '15242', 'Storage': 2877945.500000014}\n",
      "{'ID': '8074238', 'Storage': 123.42700000000167}\n",
      "{'ID': '399620', 'Storage': -4175.719000000004}\n",
      "{'ID': '191319', 'Storage': 35278.979}\n",
      "{'ID': '156428', 'Storage': 436089.12000000145}\n",
      "{'ID': '8093910', 'Storage': -16659.612999999998}\n",
      "{'ID': '218773', 'Storage': 65348.800000000294}\n",
      "{'ID': '394127', 'Storage': -13835192.0}\n",
      "{'ID': '303483', 'Storage': 3028.908}\n",
      "{'ID': '28282', 'Storage': -718.0350000000004}\n",
      "{'ID': '202397', 'Storage': 2874.900000000002}\n",
      "{'ID': '171695', 'Storage': -1064495.3000000003}\n",
      "{'ID': '8094427', 'Storage': -8234.879999999992}\n",
      "{'ID': '88455', 'Storage': 10184.199999999993}\n",
      "{'ID': '383583', 'Storage': 26413.822999999902}\n",
      "{'ID': '14182', 'Storage': 393.36199999999513}\n",
      "{'ID': '60910', 'Storage': 177.80400000000003}\n",
      "{'ID': '73236', 'Storage': -998.1389999999991}\n",
      "{'ID': '109439', 'Storage': 247943.7599999999}\n",
      "{'ID': '191451', 'Storage': -20182.76600000001}\n",
      "{'ID': '230233', 'Storage': 136777.99999999985}\n",
      "{'ID': '116150', 'Storage': -23826.079999999092}\n",
      "{'ID': '-Piadeno-XX', 'Storage': -1661.6000000000001}\n",
      "{'ID': '227339', 'Storage': 73949.89000000003}\n",
      "{'ID': '172', 'Storage': 99121.80000000032}\n",
      "{'ID': '397438', 'Storage': 335875.50000000064}\n",
      "{'ID': '283197', 'Storage': -6944.599000000017}\n",
      "{'ID': '130344', 'Storage': 10091.011999999866}\n",
      "{'ID': '83374', 'Storage': 19753.679999999993}\n",
      "{'ID': '152742', 'Storage': 30.839999999999996}\n",
      "{'ID': '230579', 'Storage': 3598.2899999999804}\n",
      "{'ID': '152108', 'Storage': -2768.9110000000087}\n",
      "{'ID': '4833', 'Storage': -328825.24999999854}\n",
      "{'ID': '54714', 'Storage': 1304.379999999955}\n",
      "{'ID': '1782', 'Storage': 417957.39999999997}\n",
      "{'ID': '194243', 'Storage': -2813.3440000000005}\n",
      "{'ID': '171249', 'Storage': -4207.652000000034}\n",
      "{'ID': '404701', 'Storage': 4308.611999999987}\n",
      "{'ID': '208441', 'Storage': -1912813.9200000055}\n",
      "{'ID': '132274', 'Storage': 7239.837000000021}\n",
      "{'ID': '16288', 'Storage': -1260.676}\n",
      "{'ID': '37008', 'Storage': 13216.69500000003}\n",
      "{'ID': '0070000907110000000000000577806', 'Storage': 1600.126999999958}\n",
      "{'ID': '122653', 'Storage': 13.515}\n",
      "{'ID': '191422', 'Storage': -108730.4099999999}\n",
      "{'ID': '0070000920110000000000000683508', 'Storage': 172.77400000000011}\n",
      "{'ID': '10797', 'Storage': 2562.9030000000043}\n",
      "{'ID': '066047', 'Storage': -5876.873999999965}\n",
      "{'ID': '116644', 'Storage': -849336.8400000003}\n",
      "{'ID': '6532', 'Storage': -151227.13999999975}\n",
      "{'ID': '282318', 'Storage': 6315.747999999965}\n",
      "{'ID': '221045', 'Storage': -8936.380000000054}\n",
      "{'ID': '96026', 'Storage': -1184.5400000000002}\n",
      "{'ID': '131114', 'Storage': 236842.55999999968}\n",
      "{'ID': '27764', 'Storage': 4870.546000000012}\n",
      "{'ID': '227924', 'Storage': 272032.8800000002}\n",
      "{'ID': '340757', 'Storage': -1717.3500000000074}\n",
      "{'ID': '123758', 'Storage': -5290.791000000013}\n",
      "{'ID': '8061351', 'Storage': -28732.68000000016}\n",
      "{'ID': '7005', 'Storage': -9046.799999999954}\n",
      "{'ID': '160299', 'Storage': 124154.3000000002}\n",
      "{'ID': '278533', 'Storage': -2119.0789999999947}\n",
      "{'ID': '254780', 'Storage': 4108.88}\n",
      "{'ID': '4689', 'Storage': 142197.00000000003}\n",
      "{'ID': '414746', 'Storage': -7939.996000000182}\n",
      "{'ID': '63841', 'Storage': 181.25399999999925}\n",
      "{'ID': '8068400', 'Storage': 775.5750000000028}\n",
      "{'ID': '256282', 'Storage': 8536.225999999993}\n",
      "{'ID': '37272', 'Storage': 1575.775999999983}\n",
      "{'ID': '179034', 'Storage': 174572.46000000008}\n",
      "{'ID': '00700000907110000000000000675164', 'Storage': -471.83200000000113}\n",
      "{'ID': '205901', 'Storage': 251.05300000000017}\n",
      "{'ID': '64412', 'Storage': 2038.8570000000084}\n",
      "{'ID': '16775', 'Storage': 6040.038999999982}\n",
      "{'ID': '258146', 'Storage': 156156.6000000005}\n",
      "{'ID': '8034121', 'Storage': -3766.7810000000522}\n",
      "{'ID': '391008', 'Storage': 11.920999999999985}\n",
      "{'ID': '92888', 'Storage': 63012.199999999066}\n",
      "{'ID': '4242', 'Storage': 559227.3999999999}\n",
      "{'ID': '151587', 'Storage': 7747.665999999994}\n",
      "{'ID': '8086997', 'Storage': 205790.40000000046}\n",
      "{'ID': '35224', 'Storage': -476.61999999998864}\n",
      "{'ID': '67303', 'Storage': 1100.3530000000012}\n",
      "{'ID': '208588', 'Storage': 96858.39999999908}\n",
      "{'ID': '37588', 'Storage': -1403.881}\n",
      "{'ID': '116077', 'Storage': 179813.9399999978}\n",
      "{'ID': '0071000906100000000002101029901', 'Storage': -219.80099999999993}\n",
      "{'ID': '178875', 'Storage': -34415.62400000004}\n",
      "{'ID': '10857', 'Storage': 53167.27199999995}\n",
      "{'ID': '176581', 'Storage': -1477.0350000000049}\n",
      "{'ID': '94435', 'Storage': 2538.714000000003}\n",
      "{'ID': '47716', 'Storage': 6863.04199999998}\n",
      "{'ID': '292307', 'Storage': 40152.327999999965}\n",
      "{'ID': '5442', 'Storage': -1678682.0799999973}\n",
      "{'ID': '0070000907110000000000000518009', 'Storage': 7476.263999999943}\n",
      "{'ID': '113200', 'Storage': 28.201000000000427}\n",
      "{'ID': '2160', 'Storage': 481172.16000000143}\n",
      "{'ID': '74792', 'Storage': 7969.516000000069}\n",
      "{'ID': '213409', 'Storage': -223.70600000000016}\n",
      "{'ID': '129825', 'Storage': 26.695999999999998}\n",
      "{'ID': '10734', 'Storage': 94388.8800000001}\n",
      "{'ID': '159496', 'Storage': 30316.039999999997}\n",
      "{'ID': '19919', 'Storage': -21886.56500000003}\n",
      "{'ID': '233805', 'Storage': 144.9240000000001}\n",
      "{'ID': '1670', 'Storage': 4766886.8969999915}\n",
      "{'ID': '208443', 'Storage': -474513.59999999887}\n",
      "{'ID': '341021', 'Storage': 36009.08800000022}\n",
      "{'ID': '70442', 'Storage': 2227.0010000000043}\n",
      "{'ID': '412691', 'Storage': -124304.96000000011}\n",
      "{'ID': '4032', 'Storage': 75563.11999999966}\n",
      "{'ID': '10847', 'Storage': 96417.44000000207}\n",
      "{'ID': '17541', 'Storage': -10855.257000000009}\n",
      "{'ID': '12911', 'Storage': -75.07600000000005}\n",
      "{'ID': '7998', 'Storage': -201034.08000000074}\n",
      "{'ID': '10814', 'Storage': 8816.228999999983}\n",
      "{'ID': '132488', 'Storage': 116.59200000000254}\n",
      "{'ID': '211934', 'Storage': -2741.0839999999757}\n",
      "{'ID': '16387', 'Storage': 26797.17099999994}\n",
      "{'ID': '124077', 'Storage': 3645.9199999998086}\n",
      "{'ID': '000027', 'Storage': 119550.5420000003}\n",
      "{'ID': '7996', 'Storage': 624977.4999999997}\n",
      "{'ID': '283240', 'Storage': -1802.6610000000016}\n",
      "{'ID': '160576', 'Storage': 13183.968000000023}\n",
      "{'ID': '14844', 'Storage': 1622.525000000005}\n",
      "{'ID': '198927', 'Storage': 72.62500000000006}\n",
      "{'ID': '85957', 'Storage': 65842.50000000017}\n",
      "{'ID': '281481', 'Storage': -335.354}\n",
      "{'ID': '8009821', 'Storage': 5123.846999999865}\n",
      "{'ID': '90256', 'Storage': 1652.4839999999995}\n",
      "{'ID': '8023275', 'Storage': -19272.239999999943}\n",
      "{'ID': '68671', 'Storage': -1807.902999999995}\n",
      "{'ID': '8094084', 'Storage': 521.1399999999999}\n",
      "{'ID': '111568', 'Storage': -14037.645999999477}\n",
      "{'ID': '173319', 'Storage': -3680.160000000007}\n",
      "{'ID': '325278', 'Storage': -359.93100000000067}\n",
      "{'ID': '8055376', 'Storage': 5119.106000000018}\n",
      "{'ID': '10684', 'Storage': 1954.3439999999987}\n",
      "{'ID': '123947', 'Storage': 47.14100000000003}\n",
      "{'ID': '177096', 'Storage': -298844.27999999945}\n",
      "{'ID': '78324', 'Storage': -927.7080000000069}\n",
      "{'ID': '344582', 'Storage': -1123.06}\n",
      "{'ID': '310941', 'Storage': 254680.10000000018}\n",
      "{'ID': '94745', 'Storage': 22.42499999999986}\n",
      "{'ID': '92472', 'Storage': 16233.509999999935}\n",
      "{'ID': '318016', 'Storage': 311328.8400000005}\n",
      "{'ID': '108543', 'Storage': -4657.6730000000025}\n",
      "{'ID': '380063', 'Storage': -1898.1600000000005}\n",
      "{'ID': '422455', 'Storage': -5844808.600000023}\n",
      "{'ID': '6140', 'Storage': -36617.53999999989}\n",
      "{'ID': '46100', 'Storage': -1336.23900000005}\n",
      "{'ID': '0071000920100000000002031239901', 'Storage': -113.8059999999999}\n",
      "{'ID': '0070000090740000010190002665882A', 'Storage': -2127.801999999988}\n",
      "{'ID': '38871', 'Storage': -3759.916999999995}\n",
      "{'ID': '78566', 'Storage': 13961.831000000022}\n",
      "{'ID': '34182', 'Storage': 147.9880000000007}\n",
      "{'ID': '27084', 'Storage': 489.5849999999999}\n",
      "{'ID': '29090', 'Storage': 65.44000000000027}\n",
      "{'ID': '170132', 'Storage': 54646.75000000024}\n",
      "{'ID': '67976', 'Storage': 6143.283000000013}\n",
      "{'ID': '186690', 'Storage': 3126316.0000000023}\n",
      "{'ID': '8090877', 'Storage': -28164.359999999986}\n",
      "{'ID': '116474', 'Storage': 2107.563000000012}\n",
      "{'ID': '236891', 'Storage': 491375.4000000019}\n",
      "{'ID': '300081', 'Storage': 321869.6800000003}\n",
      "{'ID': '45391', 'Storage': -13035.689000000022}\n",
      "{'ID': '16604', 'Storage': 72.42000000000161}\n",
      "{'ID': '121134', 'Storage': -597.383000000002}\n",
      "{'ID': '222945', 'Storage': 728.9579999999944}\n",
      "{'ID': '327154', 'Storage': 75434.4200000002}\n",
      "{'ID': '095', 'Storage': 330925.91999999934}\n",
      "{'ID': '220425', 'Storage': 7982.64}\n",
      "{'ID': '96091', 'Storage': 27.297999999999995}\n",
      "{'ID': '313747', 'Storage': 142955.9200000004}\n",
      "{'ID': '86331', 'Storage': 299656.900000001}\n",
      "{'ID': '87454', 'Storage': 22750.914000000037}\n",
      "{'ID': '78447', 'Storage': -8294.455999999996}\n",
      "{'ID': '98404', 'Storage': -339.34200000000124}\n",
      "{'ID': '37404', 'Storage': 426627.43999999994}\n",
      "{'ID': '5423', 'Storage': 368.34}\n",
      "{'ID': '4326', 'Storage': 2095039.4999999998}\n",
      "{'ID': '169653', 'Storage': -4196.912999999988}\n",
      "{'ID': '112993', 'Storage': -15021.210000000789}\n",
      "{'ID': '2682', 'Storage': 2530901.7000000062}\n",
      "{'ID': '69794', 'Storage': 359.79700000000025}\n",
      "{'ID': '71014', 'Storage': -3011.292999999988}\n",
      "{'ID': '214247', 'Storage': -1272.665999999994}\n",
      "{'ID': '232432', 'Storage': 17040.494000000028}\n",
      "{'ID': '172937', 'Storage': 189.6659999999999}\n",
      "{'ID': '257289', 'Storage': 397.32}\n",
      "{'ID': '132567', 'Storage': -17940.900000000005}\n",
      "{'ID': '82313', 'Storage': -934791.7999999977}\n",
      "{'ID': '125182', 'Storage': 439041.4439999996}\n",
      "{'ID': '70165', 'Storage': -36290.22000000001}\n",
      "{'ID': '124863', 'Storage': 5488.753000000033}\n",
      "{'ID': '190228', 'Storage': 1077.8399999999979}\n",
      "{'ID': '409383', 'Storage': 161.85500000000212}\n",
      "{'ID': '380658', 'Storage': 109027.5599999998}\n",
      "{'ID': '8024053', 'Storage': -12488.225999999959}\n",
      "{'ID': '312125', 'Storage': 419567.39999999874}\n",
      "{'ID': '169208', 'Storage': 74.15500000000003}\n",
      "{'ID': '1686', 'Storage': -203926.95999999993}\n",
      "{'ID': '8001570', 'Storage': 1188.2270000000115}\n",
      "{'ID': '9081', 'Storage': 99195.91400000008}\n",
      "{'ID': '8007657', 'Storage': 10849.347000000009}\n",
      "{'ID': '178950', 'Storage': 207.67700000000048}\n",
      "{'ID': '147288', 'Storage': -563309.7999999989}\n",
      "{'ID': '146817', 'Storage': 3094.1999999999985}\n",
      "{'ID': '88459', 'Storage': 3117.576999999989}\n",
      "{'ID': '36487', 'Storage': 21144.48}\n",
      "{'ID': '8030938', 'Storage': 2760.384999999995}\n",
      "{'ID': '88363', 'Storage': 272.30399999999906}\n",
      "{'ID': '178955', 'Storage': -7573.341000000006}\n",
      "{'ID': '60348', 'Storage': 483.7659999999998}\n",
      "{'ID': '144', 'Storage': 54900.60000000016}\n",
      "{'ID': '86403', 'Storage': -2226.4889999999864}\n",
      "{'ID': '44324', 'Storage': -4187.24800000006}\n",
      "{'ID': '260868', 'Storage': 7785.652000000003}\n",
      "{'ID': '7356', 'Storage': -72682.65099999998}\n",
      "{'ID': '3302', 'Storage': 6188.7559999999485}\n",
      "{'ID': '8055033', 'Storage': 8011.600000000443}\n",
      "{'ID': '6637', 'Storage': -1224306.7199999967}\n",
      "{'ID': '8021822', 'Storage': 21884.609999999928}\n",
      "{'ID': '73429', 'Storage': 35.24899999999999}\n",
      "{'ID': '399526', 'Storage': 56746.96000000009}\n",
      "{'ID': '327355', 'Storage': -27704.940000000057}\n",
      "{'ID': '4924', 'Storage': -23820.400000000005}\n",
      "{'ID': '47061', 'Storage': 49.71800000000001}\n",
      "{'ID': '421', 'Storage': 213851.81999999957}\n",
      "{'ID': '329737', 'Storage': -77774.91900000002}\n",
      "{'ID': '156312', 'Storage': -3310.654999999955}\n",
      "{'ID': '69240', 'Storage': 355.64900000000034}\n",
      "{'ID': '119091', 'Storage': -507101.0399999986}\n",
      "{'ID': '6882', 'Storage': 9695.76}\n",
      "{'ID': '35863', 'Storage': 126.72099999999996}\n",
      "{'ID': '7793', 'Storage': 142773.33000000054}\n",
      "{'ID': '180746', 'Storage': -8062.623999999983}\n",
      "{'ID': '92009', 'Storage': -1451867.8800000006}\n",
      "{'ID': '208919', 'Storage': 115845.87699999973}\n",
      "{'ID': '31485', 'Storage': 275.81199999999893}\n",
      "{'ID': '19483', 'Storage': -92243.19999999994}\n",
      "{'ID': '114468', 'Storage': -4352.975000000005}\n",
      "{'ID': '97729', 'Storage': 4246.692000000004}\n",
      "{'ID': '222585', 'Storage': 41381.000000000175}\n"
     ]
    }
   ],
   "source": [
    "# Create a dictionary of Consumer objects\n",
    "consumers = {}\n",
    "\n",
    "# Iterate through dataset and update consumers\n",
    "for _, row in df.iterrows():\n",
    "    consumer_id = row[\"ID\"]\n",
    "    received = row[\"recieved\"]\n",
    "    sent = row[\"sent\"]\n",
    "    timestamp = row[\"date\"]\n",
    "\n",
    "    # Create consumer if not exists\n",
    "    if consumer_id not in consumers:\n",
    "        consumers[consumer_id] = Consumer(consumer_id)\n",
    "\n",
    "    # Update consumer storage\n",
    "    consumers[consumer_id].update_storage(received, sent, timestamp)\n",
    "\n",
    "# Print final battery levels\n",
    "for consumer in consumers.values():\n",
    "    print(consumer.get_status())"
   ]
  },
  {
   "cell_type": "code",
   "execution_count": 17,
   "metadata": {},
   "outputs": [
    {
     "data": {
      "image/png": "[encoded data removed]",
      "text/plain": [
       "<Figure size 1000x500 with 1 Axes>"
      ]
     },
     "metadata": {},
     "output_type": "display_data"
    }
   ],
   "source": [
    "import matplotlib.pyplot as plt\n",
    "\n",
    "# Plot power levels of a specific consumer\n",
    "consumer_id = '5432'  # Choose a consumer ID from the dataset\n",
    "\n",
    "if consumer_id in consumers:\n",
    "    timestamps, storage_levels = zip(*consumers[consumer_id].history)\n",
    "\n",
    "    plt.figure(figsize=(10,5))\n",
    "    plt.plot(timestamps, storage_levels, marker='o', linestyle='-')\n",
    "    plt.xlabel(\"Date\")\n",
    "    plt.ylabel(\"Battery Storage Level\")\n",
    "    plt.title(f\"Power Storage for Consumer {consumer_id}\")\n",
    "    plt.xticks(rotation=45)\n",
    "    plt.grid(True)\n",
    "    plt.show()\n"
   ]
  },
  {
   "cell_type": "code",
   "execution_count": 18,
   "metadata": {},
   "outputs": [],
   "source": [
    "MAX_CAPACITY = 500  # kWh (example max capacity)\n",
    "MIN_CAPACITY = 0  # Cannot go below zero\n",
    "\n",
    "class Consumer:\n",
    "    def __init__(self, consumer_id, initial_storage=100):\n",
    "        self.id = consumer_id\n",
    "        self.storage = initial_storage  # Battery storage level\n",
    "        self.history = []\n",
    "\n",
    "    def update_storage(self, received, sent, timestamp):\n",
    "        \"\"\" Updates storage and prevents overcharge/undercharge \"\"\"\n",
    "        self.storage += (received - sent)\n",
    "\n",
    "        # Apply limits\n",
    "        self.storage = max(MIN_CAPACITY, min(MAX_CAPACITY, self.storage))\n",
    "\n",
    "        self.history.append((timestamp, self.storage))"
   ]
  },
  {
   "cell_type": "code",
   "execution_count": null,
   "metadata": {},
   "outputs": [],
   "source": []
  },
  {
   "cell_type": "code",
   "execution_count": null,
   "metadata": {},
   "outputs": [],
   "source": [
    "import simpy\n",
    "\n",
    "def power_simulation(env, consumer, dataset):\n",
    "    \"\"\" Simulate power flow for a single consumer \"\"\"\n",
    "    for _, row in dataset.iterrows():\n",
    "        if row[\"ID\"] == consumer.id:\n",
    "            yield env.timeout(1)  # Move simulation time forward\n",
    "            consumer.update_storage(row[\"recieved\"], row[\"sent\"], row[\"date\"])\n",
    "            print(f\"Time: {env.now}, Consumer {consumer.id} Storage: {consumer.storage}\")\n",
    "\n",
    "# Initialize simulation\n",
    "env = simpy.Environment()\n",
    "\n",
    "# Create and run processes\n",
    "for consumer in consumers.values():\n",
    "    env.process(power_simulation(env, consumer, df))\n",
    "\n",
    "env.run()"
   ]
  }
 ],
 "metadata": {
  "colab": {
   "provenance": []
  },
  "kernelspec": {
   "display_name": "Python 3 (ipykernel)",
   "language": "python",
   "name": "python3"
  },
  "language_info": {
   "codemirror_mode": {
    "name": "ipython",
    "version": 3
   },
   "file_extension": ".py",
   "mimetype": "text/x-python",
   "name": "python",
   "nbconvert_exporter": "python",
   "pygments_lexer": "ipython3",
   "version": "3.12.3"
  }
 },
 "nbformat": 4,
 "nbformat_minor": 4
}

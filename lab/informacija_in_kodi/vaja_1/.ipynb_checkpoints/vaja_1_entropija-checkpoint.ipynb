{
 "cells": [
  {
   "cell_type": "markdown",
   "id": "1c8bd678",
   "metadata": {},
   "source": [
    "# 1. Importing the libraries used"
   ]
  },
  {
   "cell_type": "code",
   "execution_count": 1,
   "id": "9b565c02",
   "metadata": {
    "scrolled": true
   },
   "outputs": [],
   "source": [
    "import wave\n",
    "import numpy as np\n",
    "from collections import Counter\n",
    "import math\n",
    "import matplotlib.pyplot as plt\n",
    "\n",
    "DEBUG = False"
   ]
  },
  {
   "cell_type": "markdown",
   "id": "a07a77a3",
   "metadata": {},
   "source": [
    "# 2. Defining the helping functions"
   ]
  },
  {
   "cell_type": "code",
   "execution_count": 2,
   "id": "587378db",
   "metadata": {},
   "outputs": [],
   "source": [
    "def split_in_tuples(file, tuple_size, debug=False):\n",
    "    output = []\n",
    "    for i in range(0, len(file), tuple_size):\n",
    "        output.append(str(file[i:i+tuple_size]))\n",
    "        if debug:\n",
    "            print(f\"{i}: {output[i]}\")\n",
    "\n",
    "    return output"
   ]
  },
  {
   "cell_type": "code",
   "execution_count": 3,
   "id": "8b19a085",
   "metadata": {},
   "outputs": [],
   "source": [
    "def calculate_entropy(count):\n",
    "    probabilities = {}\n",
    "    total_count = sum(count.values())\n",
    "    for key, value in count.items():\n",
    "        probabilities[key] = value/total_count\n",
    "     \n",
    "    entropy = 0\n",
    "    for p in probabilities.values():\n",
    "        if p !=0:\n",
    "            entropy += p*math.log2(p)\n",
    "        \n",
    "    return -entropy \n",
    "    "
   ]
  },
  {
   "cell_type": "markdown",
   "id": "94617fc2",
   "metadata": {},
   "source": [
    "# 3. Calculating the entropies of the text files"
   ]
  },
  {
   "cell_type": "code",
   "execution_count": null,
   "id": "99bf6417",
   "metadata": {
    "scrolled": true
   },
   "outputs": [],
   "source": [
    "text = np.fromfile(\"./datoteke/besedilo.txt\", dtype=\"uint8\")\n",
    "\n",
    "entropies_text_uncompressed = {}\n",
    "\n",
    "for order in range(1,6):\n",
    "    text_split = split_in_tuples(text, order)\n",
    "    if DEBUG:\n",
    "        print(text_split[:10])\n",
    "    frequencies_split = Counter(text_split)\n",
    "    entropy_split = calculate_entropy(frequencies_split)\n",
    "    entropies_text_uncompressed[order] = entropy_split/order\n",
    "    \n",
    "for key, value in entropies_text_uncompressed.items():\n",
    "    print(f\"{key} order entropy(uncompressed): {value}\")\n",
    "    \n",
    "print(\"\\n\")\n",
    "\n",
    "text = np.fromfile(\"./datoteke/besedilo.zip\", dtype=\"uint8\")\n",
    "\n",
    "entropies_text_zip = {}\n",
    "\n",
    "for order in range(1,6):\n",
    "    text_split = split_in_tuples(text, order)\n",
    "    if DEBUG:\n",
    "        print(text_split[:10])\n",
    "    frequencies_split = Counter(text_split)\n",
    "    entropy_split = calculate_entropy(frequencies_split)\n",
    "    entropies_text_zip[order] = entropy_split/order\n",
    "\n",
    "for key, value in entropies_text_zip.items():\n",
    "    print(f\"{key} order entropy(unlocked zip): {value}\")\n",
    "    \n",
    "print(\"\\n\")\n",
    "    \n",
    "text = np.fromfile(\"./datoteke/besedilo_locked.zip\", dtype=\"uint8\")\n",
    "\n",
    "entropies_text_lzip = {}\n",
    "\n",
    "for order in range(1,6):\n",
    "    text_split = split_in_tuples(text, order)\n",
    "    if DEBUG:\n",
    "        print(text_split[:10])\n",
    "    frequencies_split = Counter(text_split)\n",
    "    entropy_split = calculate_entropy(frequencies_split)\n",
    "    entropies_text_lzip[order] = entropy_split/order\n",
    "\n",
    "for key, value in entropies_text_lzip.items():\n",
    "    print(f\"{key} order entropy(locked zip): {value}\")\n"
   ]
  },
  {
   "cell_type": "code",
   "execution_count": null,
   "id": "017e10a7",
   "metadata": {},
   "outputs": [],
   "source": [
    "plt.figure()\n",
    "plt.plot(entropies_text_uncompressed.keys(),entropies_text_uncompressed.values(), marker='o', linestyle='-', label='Uncompressed')\n",
    "plt.plot(entropies_text_zip.keys(),entropies_text_zip.values(), marker='o', linestyle='-', label='.zip (unlocked)')\n",
    "plt.plot(entropies_text_lzip.keys(),entropies_text_lzip.values(), marker='o', linestyle='-', label='.zip (locked)')\n",
    "\n",
    "# Add labels, title, and legend\n",
    "plt.xlabel('Order (n)', fontsize=12)\n",
    "plt.ylabel('Entropy (H)', fontsize=12)\n",
    "plt.title('Entropy vs. Order', fontsize=14)\n",
    "plt.grid(True)\n",
    "plt.legend()\n",
    "plt.show()"
   ]
  },
  {
   "cell_type": "markdown",
   "id": "cf49a625",
   "metadata": {},
   "source": [
    "# 4. Calculating the entropies of the audio files"
   ]
  },
  {
   "cell_type": "code",
   "execution_count": null,
   "id": "64259e9a",
   "metadata": {
    "scrolled": true
   },
   "outputs": [],
   "source": [
    "DEBUG = True\n",
    "sound = np.fromfile(\"./datoteke/posnetek.wav\", dtype=\"uint8\")\n",
    "\n",
    "entropies_sound_wav = {}\n",
    "\n",
    "for order in range(1,6):\n",
    "    sound_split = split_in_tuples(sound, order)\n",
    "    if DEBUG:\n",
    "        print(sound_split[:10])\n",
    "    frequencies_split = Counter(sound_split)\n",
    "    entropy_split = calculate_entropy(frequencies_split)\n",
    "    entropies_sound_wav[order] = entropy_split/order\n",
    "    \n",
    "for key, value in entropies_sound.items():\n",
    "    print(f\"{key} order entropy(uncompressed): {value}\")\n",
    "    \n",
    "print(\"\\n\")\n",
    "    \n",
    "sound = np.fromfile(\"./datoteke/posnetek.mp3\", dtype=\"uint8\")\n",
    "\n",
    "entropies_sound_mp3 = {}\n",
    "\n",
    "for order in range(1,6):\n",
    "    sound_split = split_in_tuples(sound, order)\n",
    "    if DEBUG:\n",
    "        print(sound_split[:10])\n",
    "    frequencies_split = Counter(sound_split)\n",
    "    entropy_split = calculate_entropy(frequencies_split)\n",
    "    entropies_sound_mp3[order] = entropy_split/order\n",
    "    \n",
    "for key, value in entropies_sound.items():\n",
    "    print(f\"{key} order entropy(mp3): {value}\")\n",
    "    \n",
    "print(\"\\n\")\n",
    "    \n",
    "sound = np.fromfile(\"./datoteke/posnetek.flac\", dtype=\"uint8\")\n",
    "\n",
    "entropies_sound_flac = {}\n",
    "\n",
    "for order in range(1,6):\n",
    "    sound_split = split_in_tuples(sound, order)\n",
    "    if DEBUG:\n",
    "        print(sound_split[:10])\n",
    "    frequencies_split = Counter(sound_split)\n",
    "    entropy_split = calculate_entropy(frequencies_split)\n",
    "    entropies_sound_flac[order] = entropy_split/order\n",
    "    \n",
    "for key, value in entropies_sound.items():\n",
    "    print(f\"{key} order entropy(flac): {value}\")"
   ]
  },
  {
   "cell_type": "code",
   "execution_count": null,
   "id": "a242bdec",
   "metadata": {},
   "outputs": [],
   "source": [
    "plt.figure()\n",
    "plt.plot(entropies_sound_wav.keys(),entropies_sound_wav.values(), marker='o', linestyle='-', label='.WAV')\n",
    "plt.plot(entropies_sound_mp3.keys(),entropies_sound_mp3.values(), marker='o', linestyle='-', label='.mp3')\n",
    "plt.plot(entropies_sound_flac.keys(),entropies_sound_flac.values(), marker='o', linestyle='-', label='.flac')\n",
    "\n",
    "# Add labels, title, and legend\n",
    "plt.xlabel('Order (n)', fontsize=12)\n",
    "plt.ylabel('Entropy (H)', fontsize=12)\n",
    "plt.title('Entropy vs. Order', fontsize=14)\n",
    "plt.grid(True)\n",
    "plt.legend()\n",
    "plt.show()"
   ]
  },
  {
   "cell_type": "markdown",
   "id": "8a459adf",
   "metadata": {},
   "source": [
    "# 5. Calculating the entropies of the image files"
   ]
  },
  {
   "cell_type": "code",
   "execution_count": null,
   "id": "e48dfaf7",
   "metadata": {},
   "outputs": [],
   "source": [
    "image = np.fromfile(\"./datoteke/slika.bmp\", dtype=\"uint8\")\n",
    "\n",
    "entropies_image_bmp = {}\n",
    "\n",
    "for order in range(1,6):\n",
    "    image_split = split_in_tuples(image, order)\n",
    "    if DEBUG:\n",
    "        print(image_split[:10])\n",
    "    frequencies_split = Counter(image_split)\n",
    "    entropy_split = calculate_entropy(frequencies_split)\n",
    "    entropies_image_bmp[order] = entropy_split/order\n",
    "    \n",
    "for key, value in entropies_image_bmp.items():\n",
    "    print(f\"{key} order entropy(uncompressed): {value}\")\n",
    "    \n",
    "print(\"\\n\")\n",
    "    \n",
    "image = np.fromfile(\"./datoteke/slika.jpg\", dtype=\"uint8\")\n",
    "\n",
    "entropies_image_jpg = {}\n",
    "\n",
    "for order in range(1,6):\n",
    "    image_split = split_in_tuples(image, order)\n",
    "    if DEBUG:\n",
    "        print(image_split[:10])\n",
    "    frequencies_split = Counter(image_split)\n",
    "    entropy_split = calculate_entropy(frequencies_split)\n",
    "    entropies_image_jpg[order] = entropy_split/order\n",
    "    \n",
    "for key, value in entropies_image_jpg.items():\n",
    "    print(f\"{key} order entropy(jpg): {value}\")\n",
    "    \n",
    "print(\"\\n\")\n",
    "    \n",
    "image = np.fromfile(\"./datoteke/slika.png\", dtype=\"uint8\")\n",
    "\n",
    "entropies_image_png = {}\n",
    "\n",
    "for order in range(1,6):\n",
    "    image_split = split_in_tuples(image, order)\n",
    "    if DEBUG:\n",
    "        print(image_split[:10])\n",
    "    frequencies_split = Counter(image_split)\n",
    "    entropy_split = calculate_entropy(frequencies_split)\n",
    "    entropies_image_png[order] = entropy_split/order\n",
    "    \n",
    "for key, value in entropies_image_png.items():\n",
    "    print(f\"{key} order entropy(png): {value}\")\n"
   ]
  },
  {
   "cell_type": "code",
   "execution_count": null,
   "id": "674af569",
   "metadata": {},
   "outputs": [],
   "source": [
    "plt.figure()\n",
    "plt.plot(entropies_image_bmp.keys(),entropies_image_bmp.values(), marker='o', linestyle='-', label='.bmp')\n",
    "plt.plot(entropies_image_jpg.keys(),entropies_image_jpg.values(), marker='o', linestyle='-', label='.jpg')\n",
    "plt.plot(entropies_image_png.keys(),entropies_image_png.values(), marker='o', linestyle='-', label='.png')\n",
    "\n",
    "# Add labels, title, and legend\n",
    "plt.xlabel('Order (n)', fontsize=12)\n",
    "plt.ylabel('Entropy (H)', fontsize=12)\n",
    "plt.title('Entropy vs. Order', fontsize=14)\n",
    "plt.grid(True)\n",
    "plt.legend()\n",
    "plt.show()"
   ]
  },
  {
   "cell_type": "code",
   "execution_count": null,
   "id": "a5a51678",
   "metadata": {},
   "outputs": [],
   "source": []
  }
 ],
 "metadata": {
  "kernelspec": {
   "display_name": "Python 3 (ipykernel)",
   "language": "python",
   "name": "python3"
  },
  "language_info": {
   "codemirror_mode": {
    "name": "ipython",
    "version": 3
   },
   "file_extension": ".py",
   "mimetype": "text/x-python",
   "name": "python",
   "nbconvert_exporter": "python",
   "pygments_lexer": "ipython3",
   "version": "3.10.12"
  }
 },
 "nbformat": 4,
 "nbformat_minor": 5
}

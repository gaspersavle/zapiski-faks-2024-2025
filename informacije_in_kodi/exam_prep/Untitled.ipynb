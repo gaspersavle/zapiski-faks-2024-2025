{
 "cells": [
  {
   "cell_type": "code",
   "execution_count": 1,
   "id": "1b11c45f-c48f-4565-9d81-10d581be1698",
   "metadata": {},
   "outputs": [],
   "source": [
    "P_s = [0.3,0.33,0.13,0.06,0.07,0.07,0.03,0.01]\n",
    "P_m = [0.27,0.37,0.15,0.05,0.06,0.06,0.03,0.01]"
   ]
  },
  {
   "cell_type": "code",
   "execution_count": 2,
   "id": "e08f7390-9c31-42cf-bc9a-b1aed006d074",
   "metadata": {},
   "outputs": [
    {
     "data": {
      "text/plain": [
       "[0.28500000000000003, 0.35, 0.14, 0.055, 0.065, 0.065, 0.03, 0.01]"
      ]
     },
     "execution_count": 2,
     "metadata": {},
     "output_type": "execute_result"
    }
   ],
   "source": [
    "P_avg = []\n",
    "for i in range(len(P_s)):\n",
    "    newp = (P_s[i] + P_m[i])/2\n",
    "    P_avg.append(newp)\n",
    "\n",
    "P_avg"
   ]
  },
  {
   "cell_type": "code",
   "execution_count": 4,
   "id": "e2321ea5-f3d7-4acb-9c77-13cd91275b1b",
   "metadata": {},
   "outputs": [
    {
     "data": {
      "text/plain": [
       "2.4043290133139426"
      ]
     },
     "execution_count": 4,
     "metadata": {},
     "output_type": "execute_result"
    }
   ],
   "source": [
    "import numpy as np\n",
    "H_x = 0\n",
    "for p in P_avg:\n",
    "    H_x += p*np.log2(p)\n",
    "\n",
    "-H_x"
   ]
  },
  {
   "cell_type": "code",
   "execution_count": 5,
   "id": "252a6c22-6247-4795-aca0-1e1047aabbda",
   "metadata": {},
   "outputs": [
    {
     "data": {
      "text/plain": [
       "(-0.5, -0.5, -0.5)"
      ]
     },
     "execution_count": 5,
     "metadata": {},
     "output_type": "execute_result"
    }
   ],
   "source": [
    "H_x1 = 1/4 * np.log2(1/4)\n",
    "H_x2 = 1/2 * np.log2(1/2)\n",
    "H_x3 = 1/4 * np.log2(1/4)\n",
    "\n",
    "H_x1, H_x2, H_x3"
   ]
  },
  {
   "cell_type": "code",
   "execution_count": 6,
   "id": "04192c27-9774-4983-bc5f-fe9e3a8e39d5",
   "metadata": {},
   "outputs": [
    {
     "data": {
      "text/plain": [
       "1.939353872167201"
      ]
     },
     "execution_count": 6,
     "metadata": {},
     "output_type": "execute_result"
    }
   ],
   "source": [
    "P = [0.05, 0.35, 0.1, 0.4, 0.1]\n",
    "\n",
    "H = 0\n",
    "for p in P:\n",
    "    H+= p*np.log2(p)\n",
    "\n",
    "-H"
   ]
  }
 ],
 "metadata": {
  "kernelspec": {
   "display_name": "Python 3 (ipykernel)",
   "language": "python",
   "name": "python3"
  },
  "language_info": {
   "codemirror_mode": {
    "name": "ipython",
    "version": 3
   },
   "file_extension": ".py",
   "mimetype": "text/x-python",
   "name": "python",
   "nbconvert_exporter": "python",
   "pygments_lexer": "ipython3",
   "version": "3.12.3"
  }
 },
 "nbformat": 4,
 "nbformat_minor": 5
}
